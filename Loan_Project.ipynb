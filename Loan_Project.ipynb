{
 "cells": [
  {
   "cell_type": "code",
   "execution_count": 348,
   "id": "3648439e",
   "metadata": {},
   "outputs": [],
   "source": [
    "import pandas as pd\n",
    "import numpy as np\n",
    "from sklearn.preprocessing import StandardScaler, OrdinalEncoder,LabelEncoder\n",
    "from sklearn.linear_model import LogisticRegression\n",
    "from statsmodels.stats.outliers_influence import variance_inflation_factor\n",
    "from sklearn.metrics import accuracy_score, confusion_matrix, roc_curve, roc_auc_score,classification_report\n",
    "import matplotlib.pyplot as plt\n",
    "from sklearn import metrics\n",
    "import seaborn as sns\n",
    "from sklearn.decomposition import PCA\n",
    "import warnings\n",
    "warnings.filterwarnings('ignore')"
   ]
  },
  {
   "cell_type": "code",
   "execution_count": 258,
   "id": "7d34ad54",
   "metadata": {},
   "outputs": [
    {
     "data": {
      "text/html": [
       "<div>\n",
       "<style scoped>\n",
       "    .dataframe tbody tr th:only-of-type {\n",
       "        vertical-align: middle;\n",
       "    }\n",
       "\n",
       "    .dataframe tbody tr th {\n",
       "        vertical-align: top;\n",
       "    }\n",
       "\n",
       "    .dataframe thead th {\n",
       "        text-align: right;\n",
       "    }\n",
       "</style>\n",
       "<table border=\"1\" class=\"dataframe\">\n",
       "  <thead>\n",
       "    <tr style=\"text-align: right;\">\n",
       "      <th></th>\n",
       "      <th>Loan_ID</th>\n",
       "      <th>Gender</th>\n",
       "      <th>Married</th>\n",
       "      <th>Dependents</th>\n",
       "      <th>Education</th>\n",
       "      <th>Self_Employed</th>\n",
       "      <th>ApplicantIncome</th>\n",
       "      <th>CoapplicantIncome</th>\n",
       "      <th>LoanAmount</th>\n",
       "      <th>Loan_Amount_Term</th>\n",
       "      <th>Credit_History</th>\n",
       "      <th>Property_Area</th>\n",
       "      <th>Loan_Status</th>\n",
       "    </tr>\n",
       "  </thead>\n",
       "  <tbody>\n",
       "    <tr>\n",
       "      <th>0</th>\n",
       "      <td>LP001002</td>\n",
       "      <td>Male</td>\n",
       "      <td>No</td>\n",
       "      <td>0</td>\n",
       "      <td>Graduate</td>\n",
       "      <td>No</td>\n",
       "      <td>5849</td>\n",
       "      <td>0.0</td>\n",
       "      <td>NaN</td>\n",
       "      <td>360.0</td>\n",
       "      <td>1.0</td>\n",
       "      <td>Urban</td>\n",
       "      <td>Y</td>\n",
       "    </tr>\n",
       "    <tr>\n",
       "      <th>1</th>\n",
       "      <td>LP001003</td>\n",
       "      <td>Male</td>\n",
       "      <td>Yes</td>\n",
       "      <td>1</td>\n",
       "      <td>Graduate</td>\n",
       "      <td>No</td>\n",
       "      <td>4583</td>\n",
       "      <td>1508.0</td>\n",
       "      <td>128.0</td>\n",
       "      <td>360.0</td>\n",
       "      <td>1.0</td>\n",
       "      <td>Rural</td>\n",
       "      <td>N</td>\n",
       "    </tr>\n",
       "    <tr>\n",
       "      <th>2</th>\n",
       "      <td>LP001005</td>\n",
       "      <td>Male</td>\n",
       "      <td>Yes</td>\n",
       "      <td>0</td>\n",
       "      <td>Graduate</td>\n",
       "      <td>Yes</td>\n",
       "      <td>3000</td>\n",
       "      <td>0.0</td>\n",
       "      <td>66.0</td>\n",
       "      <td>360.0</td>\n",
       "      <td>1.0</td>\n",
       "      <td>Urban</td>\n",
       "      <td>Y</td>\n",
       "    </tr>\n",
       "    <tr>\n",
       "      <th>3</th>\n",
       "      <td>LP001006</td>\n",
       "      <td>Male</td>\n",
       "      <td>Yes</td>\n",
       "      <td>0</td>\n",
       "      <td>Not Graduate</td>\n",
       "      <td>No</td>\n",
       "      <td>2583</td>\n",
       "      <td>2358.0</td>\n",
       "      <td>120.0</td>\n",
       "      <td>360.0</td>\n",
       "      <td>1.0</td>\n",
       "      <td>Urban</td>\n",
       "      <td>Y</td>\n",
       "    </tr>\n",
       "    <tr>\n",
       "      <th>4</th>\n",
       "      <td>LP001008</td>\n",
       "      <td>Male</td>\n",
       "      <td>No</td>\n",
       "      <td>0</td>\n",
       "      <td>Graduate</td>\n",
       "      <td>No</td>\n",
       "      <td>6000</td>\n",
       "      <td>0.0</td>\n",
       "      <td>141.0</td>\n",
       "      <td>360.0</td>\n",
       "      <td>1.0</td>\n",
       "      <td>Urban</td>\n",
       "      <td>Y</td>\n",
       "    </tr>\n",
       "  </tbody>\n",
       "</table>\n",
       "</div>"
      ],
      "text/plain": [
       "    Loan_ID Gender Married Dependents     Education Self_Employed  \\\n",
       "0  LP001002   Male      No          0      Graduate            No   \n",
       "1  LP001003   Male     Yes          1      Graduate            No   \n",
       "2  LP001005   Male     Yes          0      Graduate           Yes   \n",
       "3  LP001006   Male     Yes          0  Not Graduate            No   \n",
       "4  LP001008   Male      No          0      Graduate            No   \n",
       "\n",
       "   ApplicantIncome  CoapplicantIncome  LoanAmount  Loan_Amount_Term  \\\n",
       "0             5849                0.0         NaN             360.0   \n",
       "1             4583             1508.0       128.0             360.0   \n",
       "2             3000                0.0        66.0             360.0   \n",
       "3             2583             2358.0       120.0             360.0   \n",
       "4             6000                0.0       141.0             360.0   \n",
       "\n",
       "   Credit_History Property_Area Loan_Status  \n",
       "0             1.0         Urban           Y  \n",
       "1             1.0         Rural           N  \n",
       "2             1.0         Urban           Y  \n",
       "3             1.0         Urban           Y  \n",
       "4             1.0         Urban           Y  "
      ]
     },
     "execution_count": 258,
     "metadata": {},
     "output_type": "execute_result"
    }
   ],
   "source": [
    "Loan = pd.read_csv(\"https://raw.githubusercontent.com/dsrscientist/DSData/master/loan_prediction.csv\")\n",
    "Loan.head()"
   ]
  },
  {
   "cell_type": "code",
   "execution_count": 259,
   "id": "fec63e1a",
   "metadata": {},
   "outputs": [
    {
     "name": "stdout",
     "output_type": "stream",
     "text": [
      "<class 'pandas.core.frame.DataFrame'>\n",
      "RangeIndex: 614 entries, 0 to 613\n",
      "Data columns (total 13 columns):\n",
      " #   Column             Non-Null Count  Dtype  \n",
      "---  ------             --------------  -----  \n",
      " 0   Loan_ID            614 non-null    object \n",
      " 1   Gender             601 non-null    object \n",
      " 2   Married            611 non-null    object \n",
      " 3   Dependents         599 non-null    object \n",
      " 4   Education          614 non-null    object \n",
      " 5   Self_Employed      582 non-null    object \n",
      " 6   ApplicantIncome    614 non-null    int64  \n",
      " 7   CoapplicantIncome  614 non-null    float64\n",
      " 8   LoanAmount         592 non-null    float64\n",
      " 9   Loan_Amount_Term   600 non-null    float64\n",
      " 10  Credit_History     564 non-null    float64\n",
      " 11  Property_Area      614 non-null    object \n",
      " 12  Loan_Status        614 non-null    object \n",
      "dtypes: float64(4), int64(1), object(8)\n",
      "memory usage: 62.5+ KB\n"
     ]
    }
   ],
   "source": [
    "Loan.info()"
   ]
  },
  {
   "cell_type": "code",
   "execution_count": 260,
   "id": "f4c64fb6",
   "metadata": {},
   "outputs": [
    {
     "data": {
      "text/plain": [
       "(614, 13)"
      ]
     },
     "execution_count": 260,
     "metadata": {},
     "output_type": "execute_result"
    }
   ],
   "source": [
    "Loan.shape"
   ]
  },
  {
   "cell_type": "code",
   "execution_count": 261,
   "id": "31bd7e42",
   "metadata": {},
   "outputs": [
    {
     "data": {
      "text/html": [
       "<div>\n",
       "<style scoped>\n",
       "    .dataframe tbody tr th:only-of-type {\n",
       "        vertical-align: middle;\n",
       "    }\n",
       "\n",
       "    .dataframe tbody tr th {\n",
       "        vertical-align: top;\n",
       "    }\n",
       "\n",
       "    .dataframe thead th {\n",
       "        text-align: right;\n",
       "    }\n",
       "</style>\n",
       "<table border=\"1\" class=\"dataframe\">\n",
       "  <thead>\n",
       "    <tr style=\"text-align: right;\">\n",
       "      <th></th>\n",
       "      <th>unique valeus</th>\n",
       "    </tr>\n",
       "  </thead>\n",
       "  <tbody>\n",
       "    <tr>\n",
       "      <th>Loan_ID</th>\n",
       "      <td>614</td>\n",
       "    </tr>\n",
       "    <tr>\n",
       "      <th>Gender</th>\n",
       "      <td>2</td>\n",
       "    </tr>\n",
       "    <tr>\n",
       "      <th>Married</th>\n",
       "      <td>2</td>\n",
       "    </tr>\n",
       "    <tr>\n",
       "      <th>Dependents</th>\n",
       "      <td>4</td>\n",
       "    </tr>\n",
       "    <tr>\n",
       "      <th>Education</th>\n",
       "      <td>2</td>\n",
       "    </tr>\n",
       "    <tr>\n",
       "      <th>Self_Employed</th>\n",
       "      <td>2</td>\n",
       "    </tr>\n",
       "    <tr>\n",
       "      <th>ApplicantIncome</th>\n",
       "      <td>505</td>\n",
       "    </tr>\n",
       "    <tr>\n",
       "      <th>CoapplicantIncome</th>\n",
       "      <td>287</td>\n",
       "    </tr>\n",
       "    <tr>\n",
       "      <th>LoanAmount</th>\n",
       "      <td>203</td>\n",
       "    </tr>\n",
       "    <tr>\n",
       "      <th>Loan_Amount_Term</th>\n",
       "      <td>10</td>\n",
       "    </tr>\n",
       "    <tr>\n",
       "      <th>Credit_History</th>\n",
       "      <td>2</td>\n",
       "    </tr>\n",
       "    <tr>\n",
       "      <th>Property_Area</th>\n",
       "      <td>3</td>\n",
       "    </tr>\n",
       "    <tr>\n",
       "      <th>Loan_Status</th>\n",
       "      <td>2</td>\n",
       "    </tr>\n",
       "  </tbody>\n",
       "</table>\n",
       "</div>"
      ],
      "text/plain": [
       "                   unique valeus\n",
       "Loan_ID                      614\n",
       "Gender                         2\n",
       "Married                        2\n",
       "Dependents                     4\n",
       "Education                      2\n",
       "Self_Employed                  2\n",
       "ApplicantIncome              505\n",
       "CoapplicantIncome            287\n",
       "LoanAmount                   203\n",
       "Loan_Amount_Term              10\n",
       "Credit_History                 2\n",
       "Property_Area                  3\n",
       "Loan_Status                    2"
      ]
     },
     "execution_count": 261,
     "metadata": {},
     "output_type": "execute_result"
    }
   ],
   "source": [
    "Loan.nunique().to_frame('unique valeus')"
   ]
  },
  {
   "cell_type": "code",
   "execution_count": 262,
   "id": "d1e70c7a",
   "metadata": {},
   "outputs": [
    {
     "data": {
      "text/html": [
       "<div>\n",
       "<style scoped>\n",
       "    .dataframe tbody tr th:only-of-type {\n",
       "        vertical-align: middle;\n",
       "    }\n",
       "\n",
       "    .dataframe tbody tr th {\n",
       "        vertical-align: top;\n",
       "    }\n",
       "\n",
       "    .dataframe thead th {\n",
       "        text-align: right;\n",
       "    }\n",
       "</style>\n",
       "<table border=\"1\" class=\"dataframe\">\n",
       "  <thead>\n",
       "    <tr style=\"text-align: right;\">\n",
       "      <th></th>\n",
       "      <th></th>\n",
       "      <th></th>\n",
       "      <th></th>\n",
       "      <th></th>\n",
       "      <th></th>\n",
       "      <th></th>\n",
       "      <th></th>\n",
       "      <th></th>\n",
       "      <th></th>\n",
       "      <th></th>\n",
       "      <th></th>\n",
       "      <th></th>\n",
       "      <th>counts</th>\n",
       "    </tr>\n",
       "    <tr>\n",
       "      <th>Loan_ID</th>\n",
       "      <th>Gender</th>\n",
       "      <th>Married</th>\n",
       "      <th>Dependents</th>\n",
       "      <th>Education</th>\n",
       "      <th>Self_Employed</th>\n",
       "      <th>ApplicantIncome</th>\n",
       "      <th>CoapplicantIncome</th>\n",
       "      <th>LoanAmount</th>\n",
       "      <th>Loan_Amount_Term</th>\n",
       "      <th>Credit_History</th>\n",
       "      <th>Property_Area</th>\n",
       "      <th>Loan_Status</th>\n",
       "      <th></th>\n",
       "    </tr>\n",
       "  </thead>\n",
       "  <tbody>\n",
       "    <tr>\n",
       "      <th>LP001003</th>\n",
       "      <th>Male</th>\n",
       "      <th>Yes</th>\n",
       "      <th>1</th>\n",
       "      <th>Graduate</th>\n",
       "      <th>No</th>\n",
       "      <th>4583</th>\n",
       "      <th>1508.0</th>\n",
       "      <th>128.0</th>\n",
       "      <th>360.0</th>\n",
       "      <th>1.0</th>\n",
       "      <th>Rural</th>\n",
       "      <th>N</th>\n",
       "      <td>1</td>\n",
       "    </tr>\n",
       "    <tr>\n",
       "      <th>LP001005</th>\n",
       "      <th>Male</th>\n",
       "      <th>Yes</th>\n",
       "      <th>0</th>\n",
       "      <th>Graduate</th>\n",
       "      <th>Yes</th>\n",
       "      <th>3000</th>\n",
       "      <th>0.0</th>\n",
       "      <th>66.0</th>\n",
       "      <th>360.0</th>\n",
       "      <th>1.0</th>\n",
       "      <th>Urban</th>\n",
       "      <th>Y</th>\n",
       "      <td>1</td>\n",
       "    </tr>\n",
       "    <tr>\n",
       "      <th>LP002347</th>\n",
       "      <th>Male</th>\n",
       "      <th>Yes</th>\n",
       "      <th>0</th>\n",
       "      <th>Graduate</th>\n",
       "      <th>No</th>\n",
       "      <th>3246</th>\n",
       "      <th>1417.0</th>\n",
       "      <th>138.0</th>\n",
       "      <th>360.0</th>\n",
       "      <th>1.0</th>\n",
       "      <th>Semiurban</th>\n",
       "      <th>Y</th>\n",
       "      <td>1</td>\n",
       "    </tr>\n",
       "    <tr>\n",
       "      <th>LP002345</th>\n",
       "      <th>Male</th>\n",
       "      <th>Yes</th>\n",
       "      <th>0</th>\n",
       "      <th>Graduate</th>\n",
       "      <th>No</th>\n",
       "      <th>1025</th>\n",
       "      <th>2773.0</th>\n",
       "      <th>112.0</th>\n",
       "      <th>360.0</th>\n",
       "      <th>1.0</th>\n",
       "      <th>Rural</th>\n",
       "      <th>Y</th>\n",
       "      <td>1</td>\n",
       "    </tr>\n",
       "    <tr>\n",
       "      <th>LP002342</th>\n",
       "      <th>Male</th>\n",
       "      <th>Yes</th>\n",
       "      <th>2</th>\n",
       "      <th>Graduate</th>\n",
       "      <th>Yes</th>\n",
       "      <th>1600</th>\n",
       "      <th>20000.0</th>\n",
       "      <th>239.0</th>\n",
       "      <th>360.0</th>\n",
       "      <th>1.0</th>\n",
       "      <th>Urban</th>\n",
       "      <th>N</th>\n",
       "      <td>1</td>\n",
       "    </tr>\n",
       "    <tr>\n",
       "      <th>...</th>\n",
       "      <th>...</th>\n",
       "      <th>...</th>\n",
       "      <th>...</th>\n",
       "      <th>...</th>\n",
       "      <th>...</th>\n",
       "      <th>...</th>\n",
       "      <th>...</th>\n",
       "      <th>...</th>\n",
       "      <th>...</th>\n",
       "      <th>...</th>\n",
       "      <th>...</th>\n",
       "      <th>...</th>\n",
       "      <td>...</td>\n",
       "    </tr>\n",
       "    <tr>\n",
       "      <th>LP001674</th>\n",
       "      <th>Male</th>\n",
       "      <th>Yes</th>\n",
       "      <th>1</th>\n",
       "      <th>Not Graduate</th>\n",
       "      <th>No</th>\n",
       "      <th>2600</th>\n",
       "      <th>2500.0</th>\n",
       "      <th>90.0</th>\n",
       "      <th>360.0</th>\n",
       "      <th>1.0</th>\n",
       "      <th>Semiurban</th>\n",
       "      <th>Y</th>\n",
       "      <td>1</td>\n",
       "    </tr>\n",
       "    <tr>\n",
       "      <th>LP001673</th>\n",
       "      <th>Male</th>\n",
       "      <th>No</th>\n",
       "      <th>0</th>\n",
       "      <th>Graduate</th>\n",
       "      <th>Yes</th>\n",
       "      <th>11000</th>\n",
       "      <th>0.0</th>\n",
       "      <th>83.0</th>\n",
       "      <th>360.0</th>\n",
       "      <th>1.0</th>\n",
       "      <th>Urban</th>\n",
       "      <th>N</th>\n",
       "      <td>1</td>\n",
       "    </tr>\n",
       "    <tr>\n",
       "      <th>LP001666</th>\n",
       "      <th>Male</th>\n",
       "      <th>No</th>\n",
       "      <th>0</th>\n",
       "      <th>Graduate</th>\n",
       "      <th>No</th>\n",
       "      <th>8333</th>\n",
       "      <th>3750.0</th>\n",
       "      <th>187.0</th>\n",
       "      <th>360.0</th>\n",
       "      <th>1.0</th>\n",
       "      <th>Rural</th>\n",
       "      <th>Y</th>\n",
       "      <td>1</td>\n",
       "    </tr>\n",
       "    <tr>\n",
       "      <th>LP001665</th>\n",
       "      <th>Male</th>\n",
       "      <th>Yes</th>\n",
       "      <th>1</th>\n",
       "      <th>Graduate</th>\n",
       "      <th>No</th>\n",
       "      <th>3125</th>\n",
       "      <th>2583.0</th>\n",
       "      <th>170.0</th>\n",
       "      <th>360.0</th>\n",
       "      <th>1.0</th>\n",
       "      <th>Semiurban</th>\n",
       "      <th>N</th>\n",
       "      <td>1</td>\n",
       "    </tr>\n",
       "    <tr>\n",
       "      <th>LP002990</th>\n",
       "      <th>Female</th>\n",
       "      <th>No</th>\n",
       "      <th>0</th>\n",
       "      <th>Graduate</th>\n",
       "      <th>Yes</th>\n",
       "      <th>4583</th>\n",
       "      <th>0.0</th>\n",
       "      <th>133.0</th>\n",
       "      <th>360.0</th>\n",
       "      <th>0.0</th>\n",
       "      <th>Semiurban</th>\n",
       "      <th>N</th>\n",
       "      <td>1</td>\n",
       "    </tr>\n",
       "  </tbody>\n",
       "</table>\n",
       "<p>480 rows × 1 columns</p>\n",
       "</div>"
      ],
      "text/plain": [
       "                                                                                                                                                                      counts\n",
       "Loan_ID  Gender Married Dependents Education    Self_Employed ApplicantIncome CoapplicantIncome LoanAmount Loan_Amount_Term Credit_History Property_Area Loan_Status        \n",
       "LP001003 Male   Yes     1          Graduate     No            4583            1508.0            128.0      360.0            1.0            Rural         N                 1\n",
       "LP001005 Male   Yes     0          Graduate     Yes           3000            0.0               66.0       360.0            1.0            Urban         Y                 1\n",
       "LP002347 Male   Yes     0          Graduate     No            3246            1417.0            138.0      360.0            1.0            Semiurban     Y                 1\n",
       "LP002345 Male   Yes     0          Graduate     No            1025            2773.0            112.0      360.0            1.0            Rural         Y                 1\n",
       "LP002342 Male   Yes     2          Graduate     Yes           1600            20000.0           239.0      360.0            1.0            Urban         N                 1\n",
       "...                                                                                                                                                                      ...\n",
       "LP001674 Male   Yes     1          Not Graduate No            2600            2500.0            90.0       360.0            1.0            Semiurban     Y                 1\n",
       "LP001673 Male   No      0          Graduate     Yes           11000           0.0               83.0       360.0            1.0            Urban         N                 1\n",
       "LP001666 Male   No      0          Graduate     No            8333            3750.0            187.0      360.0            1.0            Rural         Y                 1\n",
       "LP001665 Male   Yes     1          Graduate     No            3125            2583.0            170.0      360.0            1.0            Semiurban     N                 1\n",
       "LP002990 Female No      0          Graduate     Yes           4583            0.0               133.0      360.0            0.0            Semiurban     N                 1\n",
       "\n",
       "[480 rows x 1 columns]"
      ]
     },
     "execution_count": 262,
     "metadata": {},
     "output_type": "execute_result"
    }
   ],
   "source": [
    "Loan.value_counts().to_frame('counts')"
   ]
  },
  {
   "cell_type": "code",
   "execution_count": 263,
   "id": "4ec67162",
   "metadata": {},
   "outputs": [
    {
     "data": {
      "text/plain": [
       "array(['0', '1', '2', '3+', nan], dtype=object)"
      ]
     },
     "execution_count": 263,
     "metadata": {},
     "output_type": "execute_result"
    }
   ],
   "source": [
    "Loan.Dependents.unique()"
   ]
  },
  {
   "cell_type": "markdown",
   "id": "143f18a3",
   "metadata": {},
   "source": [
    "i discovered a string value in the dependents column which suppose to be integers. i have to remove the + sign after the 3 "
   ]
  },
  {
   "cell_type": "code",
   "execution_count": 264,
   "id": "0f62ff94",
   "metadata": {},
   "outputs": [],
   "source": [
    "Loan['Dependents'] = Loan['Dependents'].str.replace('+','')"
   ]
  },
  {
   "cell_type": "code",
   "execution_count": 265,
   "id": "27062c0e",
   "metadata": {},
   "outputs": [
    {
     "data": {
      "text/plain": [
       "array(['0', '1', '2', '3', nan], dtype=object)"
      ]
     },
     "execution_count": 265,
     "metadata": {},
     "output_type": "execute_result"
    }
   ],
   "source": [
    "Loan.Dependents.unique()"
   ]
  },
  {
   "cell_type": "markdown",
   "id": "86ffb2dc",
   "metadata": {},
   "source": [
    "checking the data info again, is still in an object format therefore I have to convert this to float or int"
   ]
  },
  {
   "cell_type": "code",
   "execution_count": 266,
   "id": "576ca4d3",
   "metadata": {},
   "outputs": [],
   "source": [
    "Loan['Dependents']=Loan['Dependents'].astype(float)"
   ]
  },
  {
   "cell_type": "code",
   "execution_count": 267,
   "id": "5e1fc464",
   "metadata": {},
   "outputs": [
    {
     "data": {
      "text/plain": [
       "dtype('float64')"
      ]
     },
     "execution_count": 267,
     "metadata": {},
     "output_type": "execute_result"
    }
   ],
   "source": [
    "Loan['Dependents'].dtypes"
   ]
  },
  {
   "cell_type": "code",
   "execution_count": 268,
   "id": "fb7f0b22",
   "metadata": {},
   "outputs": [
    {
     "data": {
      "text/plain": [
       "array([ 0.,  1.,  2.,  3., nan])"
      ]
     },
     "execution_count": 268,
     "metadata": {},
     "output_type": "execute_result"
    }
   ],
   "source": [
    "Loan.Dependents.unique()"
   ]
  },
  {
   "cell_type": "markdown",
   "id": "a06eaa8f",
   "metadata": {},
   "source": [
    "the column is okay in term of data type but still contains null values this will be taking care of later"
   ]
  },
  {
   "cell_type": "code",
   "execution_count": 269,
   "id": "2d1b476d",
   "metadata": {},
   "outputs": [
    {
     "data": {
      "text/plain": [
       "(614, 13)"
      ]
     },
     "execution_count": 269,
     "metadata": {},
     "output_type": "execute_result"
    }
   ],
   "source": [
    "Loan.shape"
   ]
  },
  {
   "cell_type": "code",
   "execution_count": 270,
   "id": "a30d7ed1",
   "metadata": {},
   "outputs": [
    {
     "data": {
      "text/html": [
       "<div>\n",
       "<style scoped>\n",
       "    .dataframe tbody tr th:only-of-type {\n",
       "        vertical-align: middle;\n",
       "    }\n",
       "\n",
       "    .dataframe tbody tr th {\n",
       "        vertical-align: top;\n",
       "    }\n",
       "\n",
       "    .dataframe thead th {\n",
       "        text-align: right;\n",
       "    }\n",
       "</style>\n",
       "<table border=\"1\" class=\"dataframe\">\n",
       "  <thead>\n",
       "    <tr style=\"text-align: right;\">\n",
       "      <th></th>\n",
       "      <th>Number of Null values</th>\n",
       "    </tr>\n",
       "  </thead>\n",
       "  <tbody>\n",
       "    <tr>\n",
       "      <th>Loan_ID</th>\n",
       "      <td>0</td>\n",
       "    </tr>\n",
       "    <tr>\n",
       "      <th>Gender</th>\n",
       "      <td>13</td>\n",
       "    </tr>\n",
       "    <tr>\n",
       "      <th>Married</th>\n",
       "      <td>3</td>\n",
       "    </tr>\n",
       "    <tr>\n",
       "      <th>Dependents</th>\n",
       "      <td>15</td>\n",
       "    </tr>\n",
       "    <tr>\n",
       "      <th>Education</th>\n",
       "      <td>0</td>\n",
       "    </tr>\n",
       "    <tr>\n",
       "      <th>Self_Employed</th>\n",
       "      <td>32</td>\n",
       "    </tr>\n",
       "    <tr>\n",
       "      <th>ApplicantIncome</th>\n",
       "      <td>0</td>\n",
       "    </tr>\n",
       "    <tr>\n",
       "      <th>CoapplicantIncome</th>\n",
       "      <td>0</td>\n",
       "    </tr>\n",
       "    <tr>\n",
       "      <th>LoanAmount</th>\n",
       "      <td>22</td>\n",
       "    </tr>\n",
       "    <tr>\n",
       "      <th>Loan_Amount_Term</th>\n",
       "      <td>14</td>\n",
       "    </tr>\n",
       "    <tr>\n",
       "      <th>Credit_History</th>\n",
       "      <td>50</td>\n",
       "    </tr>\n",
       "    <tr>\n",
       "      <th>Property_Area</th>\n",
       "      <td>0</td>\n",
       "    </tr>\n",
       "    <tr>\n",
       "      <th>Loan_Status</th>\n",
       "      <td>0</td>\n",
       "    </tr>\n",
       "  </tbody>\n",
       "</table>\n",
       "</div>"
      ],
      "text/plain": [
       "                   Number of Null values\n",
       "Loan_ID                                0\n",
       "Gender                                13\n",
       "Married                                3\n",
       "Dependents                            15\n",
       "Education                              0\n",
       "Self_Employed                         32\n",
       "ApplicantIncome                        0\n",
       "CoapplicantIncome                      0\n",
       "LoanAmount                            22\n",
       "Loan_Amount_Term                      14\n",
       "Credit_History                        50\n",
       "Property_Area                          0\n",
       "Loan_Status                            0"
      ]
     },
     "execution_count": 270,
     "metadata": {},
     "output_type": "execute_result"
    }
   ],
   "source": [
    "Loan.isnull().sum().to_frame('Number of Null values')"
   ]
  },
  {
   "cell_type": "code",
   "execution_count": 271,
   "id": "29cd08c4",
   "metadata": {},
   "outputs": [],
   "source": [
    "for i in Loan:\n",
    "    if Loan[i].dtypes=='object':\n",
    "        Loan[i]=Loan[i].fillna(Loan[i].mode()[0])"
   ]
  },
  {
   "cell_type": "code",
   "execution_count": 272,
   "id": "e5344aa6",
   "metadata": {},
   "outputs": [],
   "source": [
    "for i in Loan:\n",
    "    if Loan[i].dtypes!='object':\n",
    "        Loan[i]=Loan[i].fillna(Loan[i].mean())"
   ]
  },
  {
   "cell_type": "code",
   "execution_count": 273,
   "id": "ce0b19fc",
   "metadata": {},
   "outputs": [
    {
     "data": {
      "text/html": [
       "<div>\n",
       "<style scoped>\n",
       "    .dataframe tbody tr th:only-of-type {\n",
       "        vertical-align: middle;\n",
       "    }\n",
       "\n",
       "    .dataframe tbody tr th {\n",
       "        vertical-align: top;\n",
       "    }\n",
       "\n",
       "    .dataframe thead th {\n",
       "        text-align: right;\n",
       "    }\n",
       "</style>\n",
       "<table border=\"1\" class=\"dataframe\">\n",
       "  <thead>\n",
       "    <tr style=\"text-align: right;\">\n",
       "      <th></th>\n",
       "      <th>Number of Null values</th>\n",
       "    </tr>\n",
       "  </thead>\n",
       "  <tbody>\n",
       "    <tr>\n",
       "      <th>Loan_ID</th>\n",
       "      <td>0</td>\n",
       "    </tr>\n",
       "    <tr>\n",
       "      <th>Gender</th>\n",
       "      <td>0</td>\n",
       "    </tr>\n",
       "    <tr>\n",
       "      <th>Married</th>\n",
       "      <td>0</td>\n",
       "    </tr>\n",
       "    <tr>\n",
       "      <th>Dependents</th>\n",
       "      <td>0</td>\n",
       "    </tr>\n",
       "    <tr>\n",
       "      <th>Education</th>\n",
       "      <td>0</td>\n",
       "    </tr>\n",
       "    <tr>\n",
       "      <th>Self_Employed</th>\n",
       "      <td>0</td>\n",
       "    </tr>\n",
       "    <tr>\n",
       "      <th>ApplicantIncome</th>\n",
       "      <td>0</td>\n",
       "    </tr>\n",
       "    <tr>\n",
       "      <th>CoapplicantIncome</th>\n",
       "      <td>0</td>\n",
       "    </tr>\n",
       "    <tr>\n",
       "      <th>LoanAmount</th>\n",
       "      <td>0</td>\n",
       "    </tr>\n",
       "    <tr>\n",
       "      <th>Loan_Amount_Term</th>\n",
       "      <td>0</td>\n",
       "    </tr>\n",
       "    <tr>\n",
       "      <th>Credit_History</th>\n",
       "      <td>0</td>\n",
       "    </tr>\n",
       "    <tr>\n",
       "      <th>Property_Area</th>\n",
       "      <td>0</td>\n",
       "    </tr>\n",
       "    <tr>\n",
       "      <th>Loan_Status</th>\n",
       "      <td>0</td>\n",
       "    </tr>\n",
       "  </tbody>\n",
       "</table>\n",
       "</div>"
      ],
      "text/plain": [
       "                   Number of Null values\n",
       "Loan_ID                                0\n",
       "Gender                                 0\n",
       "Married                                0\n",
       "Dependents                             0\n",
       "Education                              0\n",
       "Self_Employed                          0\n",
       "ApplicantIncome                        0\n",
       "CoapplicantIncome                      0\n",
       "LoanAmount                             0\n",
       "Loan_Amount_Term                       0\n",
       "Credit_History                         0\n",
       "Property_Area                          0\n",
       "Loan_Status                            0"
      ]
     },
     "execution_count": 273,
     "metadata": {},
     "output_type": "execute_result"
    }
   ],
   "source": [
    "Loan.isnull().sum().to_frame('Number of Null values')"
   ]
  },
  {
   "cell_type": "code",
   "execution_count": 274,
   "id": "36ab0b5d",
   "metadata": {},
   "outputs": [
    {
     "data": {
      "text/plain": [
       "<AxesSubplot:>"
      ]
     },
     "execution_count": 274,
     "metadata": {},
     "output_type": "execute_result"
    },
    {
     "data": {
      "image/png": "[encoded data removed]",
      "text/plain": [
       "<Figure size 640x480 with 2 Axes>"
      ]
     },
     "metadata": {},
     "output_type": "display_data"
    }
   ],
   "source": [
    "sns.heatmap(Loan.isnull())"
   ]
  },
  {
   "cell_type": "code",
   "execution_count": 275,
   "id": "caf0a0bf",
   "metadata": {},
   "outputs": [
    {
     "name": "stdout",
     "output_type": "stream",
     "text": [
      "       Dependents  ApplicantIncome  CoapplicantIncome  LoanAmount  \\\n",
      "count  614.000000       614.000000         614.000000  614.000000   \n",
      "mean     0.762938      5403.459283        1621.245798  146.412162   \n",
      "std      1.002718      6109.041673        2926.248369   84.037468   \n",
      "min      0.000000       150.000000           0.000000    9.000000   \n",
      "25%      0.000000      2877.500000           0.000000  100.250000   \n",
      "50%      0.000000      3812.500000        1188.500000  129.000000   \n",
      "75%      1.000000      5795.000000        2297.250000  164.750000   \n",
      "max      3.000000     81000.000000       41667.000000  700.000000   \n",
      "\n",
      "       Loan_Amount_Term  Credit_History  \n",
      "count        614.000000      614.000000  \n",
      "mean         342.000000        0.842199  \n",
      "std           64.372489        0.349681  \n",
      "min           12.000000        0.000000  \n",
      "25%          360.000000        1.000000  \n",
      "50%          360.000000        1.000000  \n",
      "75%          360.000000        1.000000  \n",
      "max          480.000000        1.000000  \n",
      "       Dependents  ApplicantIncome  CoapplicantIncome  LoanAmount  \\\n",
      "count  614.000000       614.000000         614.000000  614.000000   \n",
      "mean     0.762938      5403.459283        1621.245798  146.412162   \n",
      "std      1.002718      6109.041673        2926.248369   84.037468   \n",
      "min      0.000000       150.000000           0.000000    9.000000   \n",
      "25%      0.000000      2877.500000           0.000000  100.250000   \n",
      "50%      0.000000      3812.500000        1188.500000  129.000000   \n",
      "75%      1.000000      5795.000000        2297.250000  164.750000   \n",
      "max      3.000000     81000.000000       41667.000000  700.000000   \n",
      "\n",
      "       Loan_Amount_Term  Credit_History  \n",
      "count        614.000000      614.000000  \n",
      "mean         342.000000        0.842199  \n",
      "std           64.372489        0.349681  \n",
      "min           12.000000        0.000000  \n",
      "25%          360.000000        1.000000  \n",
      "50%          360.000000        1.000000  \n",
      "75%          360.000000        1.000000  \n",
      "max          480.000000        1.000000  \n",
      "       Dependents  ApplicantIncome  CoapplicantIncome  LoanAmount  \\\n",
      "count  614.000000       614.000000         614.000000  614.000000   \n",
      "mean     0.762938      5403.459283        1621.245798  146.412162   \n",
      "std      1.002718      6109.041673        2926.248369   84.037468   \n",
      "min      0.000000       150.000000           0.000000    9.000000   \n",
      "25%      0.000000      2877.500000           0.000000  100.250000   \n",
      "50%      0.000000      3812.500000        1188.500000  129.000000   \n",
      "75%      1.000000      5795.000000        2297.250000  164.750000   \n",
      "max      3.000000     81000.000000       41667.000000  700.000000   \n",
      "\n",
      "       Loan_Amount_Term  Credit_History  \n",
      "count        614.000000      614.000000  \n",
      "mean         342.000000        0.842199  \n",
      "std           64.372489        0.349681  \n",
      "min           12.000000        0.000000  \n",
      "25%          360.000000        1.000000  \n",
      "50%          360.000000        1.000000  \n",
      "75%          360.000000        1.000000  \n",
      "max          480.000000        1.000000  \n",
      "       Dependents  ApplicantIncome  CoapplicantIncome  LoanAmount  \\\n",
      "count  614.000000       614.000000         614.000000  614.000000   \n",
      "mean     0.762938      5403.459283        1621.245798  146.412162   \n",
      "std      1.002718      6109.041673        2926.248369   84.037468   \n",
      "min      0.000000       150.000000           0.000000    9.000000   \n",
      "25%      0.000000      2877.500000           0.000000  100.250000   \n",
      "50%      0.000000      3812.500000        1188.500000  129.000000   \n",
      "75%      1.000000      5795.000000        2297.250000  164.750000   \n",
      "max      3.000000     81000.000000       41667.000000  700.000000   \n",
      "\n",
      "       Loan_Amount_Term  Credit_History  \n",
      "count        614.000000      614.000000  \n",
      "mean         342.000000        0.842199  \n",
      "std           64.372489        0.349681  \n",
      "min           12.000000        0.000000  \n",
      "25%          360.000000        1.000000  \n",
      "50%          360.000000        1.000000  \n",
      "75%          360.000000        1.000000  \n",
      "max          480.000000        1.000000  \n",
      "       Dependents  ApplicantIncome  CoapplicantIncome  LoanAmount  \\\n",
      "count  614.000000       614.000000         614.000000  614.000000   \n",
      "mean     0.762938      5403.459283        1621.245798  146.412162   \n",
      "std      1.002718      6109.041673        2926.248369   84.037468   \n",
      "min      0.000000       150.000000           0.000000    9.000000   \n",
      "25%      0.000000      2877.500000           0.000000  100.250000   \n",
      "50%      0.000000      3812.500000        1188.500000  129.000000   \n",
      "75%      1.000000      5795.000000        2297.250000  164.750000   \n",
      "max      3.000000     81000.000000       41667.000000  700.000000   \n",
      "\n",
      "       Loan_Amount_Term  Credit_History  \n",
      "count        614.000000      614.000000  \n",
      "mean         342.000000        0.842199  \n",
      "std           64.372489        0.349681  \n",
      "min           12.000000        0.000000  \n",
      "25%          360.000000        1.000000  \n",
      "50%          360.000000        1.000000  \n",
      "75%          360.000000        1.000000  \n",
      "max          480.000000        1.000000  \n",
      "       Dependents  ApplicantIncome  CoapplicantIncome  LoanAmount  \\\n",
      "count  614.000000       614.000000         614.000000  614.000000   \n",
      "mean     0.762938      5403.459283        1621.245798  146.412162   \n",
      "std      1.002718      6109.041673        2926.248369   84.037468   \n",
      "min      0.000000       150.000000           0.000000    9.000000   \n",
      "25%      0.000000      2877.500000           0.000000  100.250000   \n",
      "50%      0.000000      3812.500000        1188.500000  129.000000   \n",
      "75%      1.000000      5795.000000        2297.250000  164.750000   \n",
      "max      3.000000     81000.000000       41667.000000  700.000000   \n",
      "\n",
      "       Loan_Amount_Term  Credit_History  \n",
      "count        614.000000      614.000000  \n",
      "mean         342.000000        0.842199  \n",
      "std           64.372489        0.349681  \n",
      "min           12.000000        0.000000  \n",
      "25%          360.000000        1.000000  \n",
      "50%          360.000000        1.000000  \n",
      "75%          360.000000        1.000000  \n",
      "max          480.000000        1.000000  \n"
     ]
    }
   ],
   "source": [
    "for i in Loan:\n",
    "    if Loan[i].dtypes!='object':\n",
    "        print(Loan.describe())"
   ]
  },
  {
   "cell_type": "code",
   "execution_count": 276,
   "id": "3e5d7057",
   "metadata": {},
   "outputs": [
    {
     "data": {
      "text/html": [
       "<div>\n",
       "<style scoped>\n",
       "    .dataframe tbody tr th:only-of-type {\n",
       "        vertical-align: middle;\n",
       "    }\n",
       "\n",
       "    .dataframe tbody tr th {\n",
       "        vertical-align: top;\n",
       "    }\n",
       "\n",
       "    .dataframe thead th {\n",
       "        text-align: right;\n",
       "    }\n",
       "</style>\n",
       "<table border=\"1\" class=\"dataframe\">\n",
       "  <thead>\n",
       "    <tr style=\"text-align: right;\">\n",
       "      <th></th>\n",
       "      <th>Dependents</th>\n",
       "      <th>ApplicantIncome</th>\n",
       "      <th>CoapplicantIncome</th>\n",
       "      <th>LoanAmount</th>\n",
       "      <th>Loan_Amount_Term</th>\n",
       "      <th>Credit_History</th>\n",
       "    </tr>\n",
       "  </thead>\n",
       "  <tbody>\n",
       "    <tr>\n",
       "      <th>count</th>\n",
       "      <td>614.000000</td>\n",
       "      <td>614.000000</td>\n",
       "      <td>614.000000</td>\n",
       "      <td>614.000000</td>\n",
       "      <td>614.000000</td>\n",
       "      <td>614.000000</td>\n",
       "    </tr>\n",
       "    <tr>\n",
       "      <th>mean</th>\n",
       "      <td>0.762938</td>\n",
       "      <td>5403.459283</td>\n",
       "      <td>1621.245798</td>\n",
       "      <td>146.412162</td>\n",
       "      <td>342.000000</td>\n",
       "      <td>0.842199</td>\n",
       "    </tr>\n",
       "    <tr>\n",
       "      <th>std</th>\n",
       "      <td>1.002718</td>\n",
       "      <td>6109.041673</td>\n",
       "      <td>2926.248369</td>\n",
       "      <td>84.037468</td>\n",
       "      <td>64.372489</td>\n",
       "      <td>0.349681</td>\n",
       "    </tr>\n",
       "    <tr>\n",
       "      <th>min</th>\n",
       "      <td>0.000000</td>\n",
       "      <td>150.000000</td>\n",
       "      <td>0.000000</td>\n",
       "      <td>9.000000</td>\n",
       "      <td>12.000000</td>\n",
       "      <td>0.000000</td>\n",
       "    </tr>\n",
       "    <tr>\n",
       "      <th>25%</th>\n",
       "      <td>0.000000</td>\n",
       "      <td>2877.500000</td>\n",
       "      <td>0.000000</td>\n",
       "      <td>100.250000</td>\n",
       "      <td>360.000000</td>\n",
       "      <td>1.000000</td>\n",
       "    </tr>\n",
       "    <tr>\n",
       "      <th>50%</th>\n",
       "      <td>0.000000</td>\n",
       "      <td>3812.500000</td>\n",
       "      <td>1188.500000</td>\n",
       "      <td>129.000000</td>\n",
       "      <td>360.000000</td>\n",
       "      <td>1.000000</td>\n",
       "    </tr>\n",
       "    <tr>\n",
       "      <th>75%</th>\n",
       "      <td>1.000000</td>\n",
       "      <td>5795.000000</td>\n",
       "      <td>2297.250000</td>\n",
       "      <td>164.750000</td>\n",
       "      <td>360.000000</td>\n",
       "      <td>1.000000</td>\n",
       "    </tr>\n",
       "    <tr>\n",
       "      <th>max</th>\n",
       "      <td>3.000000</td>\n",
       "      <td>81000.000000</td>\n",
       "      <td>41667.000000</td>\n",
       "      <td>700.000000</td>\n",
       "      <td>480.000000</td>\n",
       "      <td>1.000000</td>\n",
       "    </tr>\n",
       "  </tbody>\n",
       "</table>\n",
       "</div>"
      ],
      "text/plain": [
       "       Dependents  ApplicantIncome  CoapplicantIncome  LoanAmount  \\\n",
       "count  614.000000       614.000000         614.000000  614.000000   \n",
       "mean     0.762938      5403.459283        1621.245798  146.412162   \n",
       "std      1.002718      6109.041673        2926.248369   84.037468   \n",
       "min      0.000000       150.000000           0.000000    9.000000   \n",
       "25%      0.000000      2877.500000           0.000000  100.250000   \n",
       "50%      0.000000      3812.500000        1188.500000  129.000000   \n",
       "75%      1.000000      5795.000000        2297.250000  164.750000   \n",
       "max      3.000000     81000.000000       41667.000000  700.000000   \n",
       "\n",
       "       Loan_Amount_Term  Credit_History  \n",
       "count        614.000000      614.000000  \n",
       "mean         342.000000        0.842199  \n",
       "std           64.372489        0.349681  \n",
       "min           12.000000        0.000000  \n",
       "25%          360.000000        1.000000  \n",
       "50%          360.000000        1.000000  \n",
       "75%          360.000000        1.000000  \n",
       "max          480.000000        1.000000  "
      ]
     },
     "execution_count": 276,
     "metadata": {},
     "output_type": "execute_result"
    }
   ],
   "source": [
    "Loan.describe()"
   ]
  },
  {
   "cell_type": "code",
   "execution_count": 277,
   "id": "6bc22200",
   "metadata": {},
   "outputs": [
    {
     "data": {
      "image/png": "[encoded data removed]",
      "text/plain": [
       "<Figure size 2500x3000 with 6 Axes>"
      ]
     },
     "metadata": {},
     "output_type": "display_data"
    }
   ],
   "source": [
    "plt.figure(figsize=(25,30))\n",
    "plotnumber = 1\n",
    "for column in Loan.columns:\n",
    "    if pd.api.types.is_numeric_dtype(Loan[column]):\n",
    "        if plotnumber<=6:\n",
    "            ax = plt.subplot(4,4,plotnumber)\n",
    "            sns.distplot(Loan[column])\n",
    "            plt.xlabel(column,fontsize = 10)\n",
    "        plotnumber+=1\n",
    "plt.show()"
   ]
  },
  {
   "cell_type": "code",
   "execution_count": 280,
   "id": "62268429",
   "metadata": {},
   "outputs": [
    {
     "data": {
      "image/png": "[encoded data removed]",
      "text/plain": [
       "<Figure size 2500x3000 with 6 Axes>"
      ]
     },
     "metadata": {},
     "output_type": "display_data"
    }
   ],
   "source": [
    "plt.figure(figsize=(25,30))\n",
    "plotnumber = 1\n",
    "for column in Loan.columns:\n",
    "    if pd.api.types.is_numeric_dtype(Loan[column]):\n",
    "        if plotnumber<=6:\n",
    "            ax = plt.subplot(4,4,plotnumber)\n",
    "            sns.boxplot(Loan[column])\n",
    "            plt.xlabel(column,fontsize = 10)\n",
    "        plotnumber+=1\n",
    "plt.show()"
   ]
  },
  {
   "cell_type": "code",
   "execution_count": 281,
   "id": "dfc9e17d",
   "metadata": {},
   "outputs": [
    {
     "data": {
      "text/plain": [
       "array([1.        , 0.        , 0.84219858])"
      ]
     },
     "execution_count": 281,
     "metadata": {},
     "output_type": "execute_result"
    }
   ],
   "source": [
    "Loan.Credit_History.unique()"
   ]
  },
  {
   "cell_type": "code",
   "execution_count": 282,
   "id": "69b7672d",
   "metadata": {},
   "outputs": [
    {
     "data": {
      "text/plain": [
       "array([0.        , 1.        , 2.        , 3.        , 0.76293823])"
      ]
     },
     "execution_count": 282,
     "metadata": {},
     "output_type": "execute_result"
    }
   ],
   "source": [
    "Loan.Dependents.unique()"
   ]
  },
  {
   "cell_type": "code",
   "execution_count": 283,
   "id": "7c2eb336",
   "metadata": {},
   "outputs": [],
   "source": [
    "from scipy.stats import zscore,boxcox\n",
    "from scipy import stats"
   ]
  },
  {
   "cell_type": "code",
   "execution_count": 284,
   "id": "0b3896c5",
   "metadata": {},
   "outputs": [],
   "source": [
    "New_Loan = Loan[['Loan_Amount_Term', 'LoanAmount', 'CoapplicantIncome', 'ApplicantIncome']]\n",
    "scores = np.abs(zscore(New_Loan))"
   ]
  },
  {
   "cell_type": "code",
   "execution_count": 285,
   "id": "2cdb1908",
   "metadata": {},
   "outputs": [
    {
     "data": {
      "text/plain": [
       "(577, 13)"
      ]
     },
     "execution_count": 285,
     "metadata": {},
     "output_type": "execute_result"
    }
   ],
   "source": [
    "New_Loan =Loan[(scores<3).all(axis=1)]\n",
    "New_Loan.shape"
   ]
  },
  {
   "cell_type": "code",
   "execution_count": 286,
   "id": "3a9e5bc9",
   "metadata": {},
   "outputs": [
    {
     "data": {
      "text/html": [
       "<div>\n",
       "<style scoped>\n",
       "    .dataframe tbody tr th:only-of-type {\n",
       "        vertical-align: middle;\n",
       "    }\n",
       "\n",
       "    .dataframe tbody tr th {\n",
       "        vertical-align: top;\n",
       "    }\n",
       "\n",
       "    .dataframe thead th {\n",
       "        text-align: right;\n",
       "    }\n",
       "</style>\n",
       "<table border=\"1\" class=\"dataframe\">\n",
       "  <thead>\n",
       "    <tr style=\"text-align: right;\">\n",
       "      <th></th>\n",
       "      <th>index</th>\n",
       "      <th>Loan_ID</th>\n",
       "      <th>Gender</th>\n",
       "      <th>Married</th>\n",
       "      <th>Dependents</th>\n",
       "      <th>Education</th>\n",
       "      <th>Self_Employed</th>\n",
       "      <th>ApplicantIncome</th>\n",
       "      <th>CoapplicantIncome</th>\n",
       "      <th>LoanAmount</th>\n",
       "      <th>Loan_Amount_Term</th>\n",
       "      <th>Credit_History</th>\n",
       "      <th>Property_Area</th>\n",
       "      <th>Loan_Status</th>\n",
       "    </tr>\n",
       "  </thead>\n",
       "  <tbody>\n",
       "    <tr>\n",
       "      <th>0</th>\n",
       "      <td>0</td>\n",
       "      <td>LP001002</td>\n",
       "      <td>Male</td>\n",
       "      <td>No</td>\n",
       "      <td>0.0</td>\n",
       "      <td>Graduate</td>\n",
       "      <td>No</td>\n",
       "      <td>5849</td>\n",
       "      <td>0.0</td>\n",
       "      <td>146.412162</td>\n",
       "      <td>360.0</td>\n",
       "      <td>1.0</td>\n",
       "      <td>Urban</td>\n",
       "      <td>Y</td>\n",
       "    </tr>\n",
       "    <tr>\n",
       "      <th>1</th>\n",
       "      <td>1</td>\n",
       "      <td>LP001003</td>\n",
       "      <td>Male</td>\n",
       "      <td>Yes</td>\n",
       "      <td>1.0</td>\n",
       "      <td>Graduate</td>\n",
       "      <td>No</td>\n",
       "      <td>4583</td>\n",
       "      <td>1508.0</td>\n",
       "      <td>128.000000</td>\n",
       "      <td>360.0</td>\n",
       "      <td>1.0</td>\n",
       "      <td>Rural</td>\n",
       "      <td>N</td>\n",
       "    </tr>\n",
       "    <tr>\n",
       "      <th>2</th>\n",
       "      <td>2</td>\n",
       "      <td>LP001005</td>\n",
       "      <td>Male</td>\n",
       "      <td>Yes</td>\n",
       "      <td>0.0</td>\n",
       "      <td>Graduate</td>\n",
       "      <td>Yes</td>\n",
       "      <td>3000</td>\n",
       "      <td>0.0</td>\n",
       "      <td>66.000000</td>\n",
       "      <td>360.0</td>\n",
       "      <td>1.0</td>\n",
       "      <td>Urban</td>\n",
       "      <td>Y</td>\n",
       "    </tr>\n",
       "    <tr>\n",
       "      <th>3</th>\n",
       "      <td>3</td>\n",
       "      <td>LP001006</td>\n",
       "      <td>Male</td>\n",
       "      <td>Yes</td>\n",
       "      <td>0.0</td>\n",
       "      <td>Not Graduate</td>\n",
       "      <td>No</td>\n",
       "      <td>2583</td>\n",
       "      <td>2358.0</td>\n",
       "      <td>120.000000</td>\n",
       "      <td>360.0</td>\n",
       "      <td>1.0</td>\n",
       "      <td>Urban</td>\n",
       "      <td>Y</td>\n",
       "    </tr>\n",
       "    <tr>\n",
       "      <th>4</th>\n",
       "      <td>4</td>\n",
       "      <td>LP001008</td>\n",
       "      <td>Male</td>\n",
       "      <td>No</td>\n",
       "      <td>0.0</td>\n",
       "      <td>Graduate</td>\n",
       "      <td>No</td>\n",
       "      <td>6000</td>\n",
       "      <td>0.0</td>\n",
       "      <td>141.000000</td>\n",
       "      <td>360.0</td>\n",
       "      <td>1.0</td>\n",
       "      <td>Urban</td>\n",
       "      <td>Y</td>\n",
       "    </tr>\n",
       "    <tr>\n",
       "      <th>...</th>\n",
       "      <td>...</td>\n",
       "      <td>...</td>\n",
       "      <td>...</td>\n",
       "      <td>...</td>\n",
       "      <td>...</td>\n",
       "      <td>...</td>\n",
       "      <td>...</td>\n",
       "      <td>...</td>\n",
       "      <td>...</td>\n",
       "      <td>...</td>\n",
       "      <td>...</td>\n",
       "      <td>...</td>\n",
       "      <td>...</td>\n",
       "      <td>...</td>\n",
       "    </tr>\n",
       "    <tr>\n",
       "      <th>572</th>\n",
       "      <td>609</td>\n",
       "      <td>LP002978</td>\n",
       "      <td>Female</td>\n",
       "      <td>No</td>\n",
       "      <td>0.0</td>\n",
       "      <td>Graduate</td>\n",
       "      <td>No</td>\n",
       "      <td>2900</td>\n",
       "      <td>0.0</td>\n",
       "      <td>71.000000</td>\n",
       "      <td>360.0</td>\n",
       "      <td>1.0</td>\n",
       "      <td>Rural</td>\n",
       "      <td>Y</td>\n",
       "    </tr>\n",
       "    <tr>\n",
       "      <th>573</th>\n",
       "      <td>610</td>\n",
       "      <td>LP002979</td>\n",
       "      <td>Male</td>\n",
       "      <td>Yes</td>\n",
       "      <td>3.0</td>\n",
       "      <td>Graduate</td>\n",
       "      <td>No</td>\n",
       "      <td>4106</td>\n",
       "      <td>0.0</td>\n",
       "      <td>40.000000</td>\n",
       "      <td>180.0</td>\n",
       "      <td>1.0</td>\n",
       "      <td>Rural</td>\n",
       "      <td>Y</td>\n",
       "    </tr>\n",
       "    <tr>\n",
       "      <th>574</th>\n",
       "      <td>611</td>\n",
       "      <td>LP002983</td>\n",
       "      <td>Male</td>\n",
       "      <td>Yes</td>\n",
       "      <td>1.0</td>\n",
       "      <td>Graduate</td>\n",
       "      <td>No</td>\n",
       "      <td>8072</td>\n",
       "      <td>240.0</td>\n",
       "      <td>253.000000</td>\n",
       "      <td>360.0</td>\n",
       "      <td>1.0</td>\n",
       "      <td>Urban</td>\n",
       "      <td>Y</td>\n",
       "    </tr>\n",
       "    <tr>\n",
       "      <th>575</th>\n",
       "      <td>612</td>\n",
       "      <td>LP002984</td>\n",
       "      <td>Male</td>\n",
       "      <td>Yes</td>\n",
       "      <td>2.0</td>\n",
       "      <td>Graduate</td>\n",
       "      <td>No</td>\n",
       "      <td>7583</td>\n",
       "      <td>0.0</td>\n",
       "      <td>187.000000</td>\n",
       "      <td>360.0</td>\n",
       "      <td>1.0</td>\n",
       "      <td>Urban</td>\n",
       "      <td>Y</td>\n",
       "    </tr>\n",
       "    <tr>\n",
       "      <th>576</th>\n",
       "      <td>613</td>\n",
       "      <td>LP002990</td>\n",
       "      <td>Female</td>\n",
       "      <td>No</td>\n",
       "      <td>0.0</td>\n",
       "      <td>Graduate</td>\n",
       "      <td>Yes</td>\n",
       "      <td>4583</td>\n",
       "      <td>0.0</td>\n",
       "      <td>133.000000</td>\n",
       "      <td>360.0</td>\n",
       "      <td>0.0</td>\n",
       "      <td>Semiurban</td>\n",
       "      <td>N</td>\n",
       "    </tr>\n",
       "  </tbody>\n",
       "</table>\n",
       "<p>577 rows × 14 columns</p>\n",
       "</div>"
      ],
      "text/plain": [
       "     index   Loan_ID  Gender Married  Dependents     Education Self_Employed  \\\n",
       "0        0  LP001002    Male      No         0.0      Graduate            No   \n",
       "1        1  LP001003    Male     Yes         1.0      Graduate            No   \n",
       "2        2  LP001005    Male     Yes         0.0      Graduate           Yes   \n",
       "3        3  LP001006    Male     Yes         0.0  Not Graduate            No   \n",
       "4        4  LP001008    Male      No         0.0      Graduate            No   \n",
       "..     ...       ...     ...     ...         ...           ...           ...   \n",
       "572    609  LP002978  Female      No         0.0      Graduate            No   \n",
       "573    610  LP002979    Male     Yes         3.0      Graduate            No   \n",
       "574    611  LP002983    Male     Yes         1.0      Graduate            No   \n",
       "575    612  LP002984    Male     Yes         2.0      Graduate            No   \n",
       "576    613  LP002990  Female      No         0.0      Graduate           Yes   \n",
       "\n",
       "     ApplicantIncome  CoapplicantIncome  LoanAmount  Loan_Amount_Term  \\\n",
       "0               5849                0.0  146.412162             360.0   \n",
       "1               4583             1508.0  128.000000             360.0   \n",
       "2               3000                0.0   66.000000             360.0   \n",
       "3               2583             2358.0  120.000000             360.0   \n",
       "4               6000                0.0  141.000000             360.0   \n",
       "..               ...                ...         ...               ...   \n",
       "572             2900                0.0   71.000000             360.0   \n",
       "573             4106                0.0   40.000000             180.0   \n",
       "574             8072              240.0  253.000000             360.0   \n",
       "575             7583                0.0  187.000000             360.0   \n",
       "576             4583                0.0  133.000000             360.0   \n",
       "\n",
       "     Credit_History Property_Area Loan_Status  \n",
       "0               1.0         Urban           Y  \n",
       "1               1.0         Rural           N  \n",
       "2               1.0         Urban           Y  \n",
       "3               1.0         Urban           Y  \n",
       "4               1.0         Urban           Y  \n",
       "..              ...           ...         ...  \n",
       "572             1.0         Rural           Y  \n",
       "573             1.0         Rural           Y  \n",
       "574             1.0         Urban           Y  \n",
       "575             1.0         Urban           Y  \n",
       "576             0.0     Semiurban           N  \n",
       "\n",
       "[577 rows x 14 columns]"
      ]
     },
     "execution_count": 286,
     "metadata": {},
     "output_type": "execute_result"
    }
   ],
   "source": [
    "New_Loan.reset_index()"
   ]
  },
  {
   "cell_type": "code",
   "execution_count": 287,
   "id": "deca722e",
   "metadata": {},
   "outputs": [
    {
     "name": "stdout",
     "output_type": "stream",
     "text": [
      "Data Loss: 6.026058631921824\n"
     ]
    }
   ],
   "source": [
    "print('Data Loss:',((Loan.shape[0]-New_Loan.shape[0])/Loan.shape[0])*100)"
   ]
  },
  {
   "cell_type": "code",
   "execution_count": 288,
   "id": "a418fa44",
   "metadata": {},
   "outputs": [],
   "source": [
    "outliers = Loan[['Loan_Amount_Term', 'LoanAmount', 'CoapplicantIncome', 'ApplicantIncome']]"
   ]
  },
  {
   "cell_type": "code",
   "execution_count": 289,
   "id": "469508df",
   "metadata": {},
   "outputs": [
    {
     "name": "stdout",
     "output_type": "stream",
     "text": [
      "Data Loss: 27.524429967426713\n"
     ]
    }
   ],
   "source": [
    "q1 =outliers.quantile(0.25)\n",
    "q3 = outliers.quantile(0.75)\n",
    "iqr = q3-q1\n",
    "Loan1 = Loan[~((Loan<(q1-1.5*iqr))|(Loan>(q3+1.5*iqr))).any(axis=1)]\n",
    "Loan1.shape\n",
    "print('Data Loss:',((Loan.shape[0]-Loan1.shape[0])/Loan.shape[0])*100)"
   ]
  },
  {
   "cell_type": "code",
   "execution_count": 290,
   "id": "cdfbad0e",
   "metadata": {},
   "outputs": [],
   "source": [
    "Encoder = OrdinalEncoder()\n",
    "for i in New_Loan.columns:\n",
    "     if New_Loan[i].dtypes=='object':\n",
    "        New_Loan[i]=Encoder.fit_transform(New_Loan[i].values.reshape(-1,1))"
   ]
  },
  {
   "cell_type": "code",
   "execution_count": 291,
   "id": "b06e6d96",
   "metadata": {},
   "outputs": [
    {
     "data": {
      "text/html": [
       "<div>\n",
       "<style scoped>\n",
       "    .dataframe tbody tr th:only-of-type {\n",
       "        vertical-align: middle;\n",
       "    }\n",
       "\n",
       "    .dataframe tbody tr th {\n",
       "        vertical-align: top;\n",
       "    }\n",
       "\n",
       "    .dataframe thead th {\n",
       "        text-align: right;\n",
       "    }\n",
       "</style>\n",
       "<table border=\"1\" class=\"dataframe\">\n",
       "  <thead>\n",
       "    <tr style=\"text-align: right;\">\n",
       "      <th></th>\n",
       "      <th>Loan_ID</th>\n",
       "      <th>Gender</th>\n",
       "      <th>Married</th>\n",
       "      <th>Dependents</th>\n",
       "      <th>Education</th>\n",
       "      <th>Self_Employed</th>\n",
       "      <th>ApplicantIncome</th>\n",
       "      <th>CoapplicantIncome</th>\n",
       "      <th>LoanAmount</th>\n",
       "      <th>Loan_Amount_Term</th>\n",
       "      <th>Credit_History</th>\n",
       "      <th>Property_Area</th>\n",
       "      <th>Loan_Status</th>\n",
       "    </tr>\n",
       "  </thead>\n",
       "  <tbody>\n",
       "    <tr>\n",
       "      <th>0</th>\n",
       "      <td>0.0</td>\n",
       "      <td>1.0</td>\n",
       "      <td>0.0</td>\n",
       "      <td>0.0</td>\n",
       "      <td>0.0</td>\n",
       "      <td>0.0</td>\n",
       "      <td>5849</td>\n",
       "      <td>0.0</td>\n",
       "      <td>146.412162</td>\n",
       "      <td>360.0</td>\n",
       "      <td>1.0</td>\n",
       "      <td>2.0</td>\n",
       "      <td>1.0</td>\n",
       "    </tr>\n",
       "    <tr>\n",
       "      <th>1</th>\n",
       "      <td>1.0</td>\n",
       "      <td>1.0</td>\n",
       "      <td>1.0</td>\n",
       "      <td>1.0</td>\n",
       "      <td>0.0</td>\n",
       "      <td>0.0</td>\n",
       "      <td>4583</td>\n",
       "      <td>1508.0</td>\n",
       "      <td>128.000000</td>\n",
       "      <td>360.0</td>\n",
       "      <td>1.0</td>\n",
       "      <td>0.0</td>\n",
       "      <td>0.0</td>\n",
       "    </tr>\n",
       "    <tr>\n",
       "      <th>2</th>\n",
       "      <td>2.0</td>\n",
       "      <td>1.0</td>\n",
       "      <td>1.0</td>\n",
       "      <td>0.0</td>\n",
       "      <td>0.0</td>\n",
       "      <td>1.0</td>\n",
       "      <td>3000</td>\n",
       "      <td>0.0</td>\n",
       "      <td>66.000000</td>\n",
       "      <td>360.0</td>\n",
       "      <td>1.0</td>\n",
       "      <td>2.0</td>\n",
       "      <td>1.0</td>\n",
       "    </tr>\n",
       "    <tr>\n",
       "      <th>3</th>\n",
       "      <td>3.0</td>\n",
       "      <td>1.0</td>\n",
       "      <td>1.0</td>\n",
       "      <td>0.0</td>\n",
       "      <td>1.0</td>\n",
       "      <td>0.0</td>\n",
       "      <td>2583</td>\n",
       "      <td>2358.0</td>\n",
       "      <td>120.000000</td>\n",
       "      <td>360.0</td>\n",
       "      <td>1.0</td>\n",
       "      <td>2.0</td>\n",
       "      <td>1.0</td>\n",
       "    </tr>\n",
       "    <tr>\n",
       "      <th>4</th>\n",
       "      <td>4.0</td>\n",
       "      <td>1.0</td>\n",
       "      <td>0.0</td>\n",
       "      <td>0.0</td>\n",
       "      <td>0.0</td>\n",
       "      <td>0.0</td>\n",
       "      <td>6000</td>\n",
       "      <td>0.0</td>\n",
       "      <td>141.000000</td>\n",
       "      <td>360.0</td>\n",
       "      <td>1.0</td>\n",
       "      <td>2.0</td>\n",
       "      <td>1.0</td>\n",
       "    </tr>\n",
       "  </tbody>\n",
       "</table>\n",
       "</div>"
      ],
      "text/plain": [
       "   Loan_ID  Gender  Married  Dependents  Education  Self_Employed  \\\n",
       "0      0.0     1.0      0.0         0.0        0.0            0.0   \n",
       "1      1.0     1.0      1.0         1.0        0.0            0.0   \n",
       "2      2.0     1.0      1.0         0.0        0.0            1.0   \n",
       "3      3.0     1.0      1.0         0.0        1.0            0.0   \n",
       "4      4.0     1.0      0.0         0.0        0.0            0.0   \n",
       "\n",
       "   ApplicantIncome  CoapplicantIncome  LoanAmount  Loan_Amount_Term  \\\n",
       "0             5849                0.0  146.412162             360.0   \n",
       "1             4583             1508.0  128.000000             360.0   \n",
       "2             3000                0.0   66.000000             360.0   \n",
       "3             2583             2358.0  120.000000             360.0   \n",
       "4             6000                0.0  141.000000             360.0   \n",
       "\n",
       "   Credit_History  Property_Area  Loan_Status  \n",
       "0             1.0            2.0          1.0  \n",
       "1             1.0            0.0          0.0  \n",
       "2             1.0            2.0          1.0  \n",
       "3             1.0            2.0          1.0  \n",
       "4             1.0            2.0          1.0  "
      ]
     },
     "execution_count": 291,
     "metadata": {},
     "output_type": "execute_result"
    }
   ],
   "source": [
    "New_Loan.head()"
   ]
  },
  {
   "cell_type": "code",
   "execution_count": 292,
   "id": "614f5e96",
   "metadata": {},
   "outputs": [
    {
     "data": {
      "text/plain": [
       "Loan_ID              0\n",
       "Gender               0\n",
       "Married              0\n",
       "Dependents           0\n",
       "Education            0\n",
       "Self_Employed        0\n",
       "ApplicantIncome      0\n",
       "CoapplicantIncome    0\n",
       "LoanAmount           0\n",
       "Loan_Amount_Term     0\n",
       "Credit_History       0\n",
       "Property_Area        0\n",
       "Loan_Status          0\n",
       "dtype: int64"
      ]
     },
     "execution_count": 292,
     "metadata": {},
     "output_type": "execute_result"
    }
   ],
   "source": [
    "New_Loan.isna().sum()\n"
   ]
  },
  {
   "cell_type": "code",
   "execution_count": 293,
   "id": "ea0c59df",
   "metadata": {},
   "outputs": [
    {
     "data": {
      "text/plain": [
       "<AxesSubplot:>"
      ]
     },
     "execution_count": 293,
     "metadata": {},
     "output_type": "execute_result"
    },
    {
     "data": {
      "image/png": "[encoded data removed]",
      "text/plain": [
       "<Figure size 640x480 with 2 Axes>"
      ]
     },
     "metadata": {},
     "output_type": "display_data"
    }
   ],
   "source": [
    "sns.heatmap(New_Loan.isnull())"
   ]
  },
  {
   "cell_type": "code",
   "execution_count": 294,
   "id": "752048e1",
   "metadata": {},
   "outputs": [
    {
     "data": {
      "text/plain": [
       "Loan_ID              0.000000\n",
       "Gender              -1.622920\n",
       "Married             -0.630211\n",
       "Dependents           1.024159\n",
       "Education            1.306588\n",
       "Self_Employed        2.252848\n",
       "ApplicantIncome      2.148522\n",
       "CoapplicantIncome    1.350517\n",
       "LoanAmount           1.113132\n",
       "Loan_Amount_Term    -2.077031\n",
       "Credit_History      -1.921860\n",
       "Property_Area       -0.055332\n",
       "Loan_Status         -0.822635\n",
       "dtype: float64"
      ]
     },
     "execution_count": 294,
     "metadata": {},
     "output_type": "execute_result"
    }
   ],
   "source": [
    "New_Loan.skew()"
   ]
  },
  {
   "cell_type": "code",
   "execution_count": 295,
   "id": "4da30215",
   "metadata": {},
   "outputs": [],
   "source": [
    "New_Loan['Loan_Amount_Term']= np.cbrt(New_Loan['Loan_Amount_Term'])\n",
    "New_Loan['ApplicantIncome']= np.cbrt(New_Loan['ApplicantIncome'])\n",
    "New_Loan['CoapplicantIncome']= np.cbrt(New_Loan['CoapplicantIncome'])\n",
    "New_Loan['LoanAmount']= np.cbrt(New_Loan['LoanAmount'])"
   ]
  },
  {
   "cell_type": "code",
   "execution_count": 296,
   "id": "2a692767",
   "metadata": {},
   "outputs": [
    {
     "data": {
      "text/plain": [
       "Loan_ID              0.000000\n",
       "Gender              -1.622920\n",
       "Married             -0.630211\n",
       "Dependents           1.024159\n",
       "Education            1.306588\n",
       "Self_Employed        2.252848\n",
       "ApplicantIncome      0.845845\n",
       "CoapplicantIncome   -0.038951\n",
       "LoanAmount           0.017152\n",
       "Loan_Amount_Term    -2.557136\n",
       "Credit_History      -1.921860\n",
       "Property_Area       -0.055332\n",
       "Loan_Status         -0.822635\n",
       "dtype: float64"
      ]
     },
     "execution_count": 296,
     "metadata": {},
     "output_type": "execute_result"
    }
   ],
   "source": [
    "New_Loan.skew()"
   ]
  },
  {
   "cell_type": "code",
   "execution_count": 297,
   "id": "230f608d",
   "metadata": {},
   "outputs": [],
   "source": [
    "New_Loan['ApplicantIncome']= np.sqrt(New_Loan['ApplicantIncome'])\n",
    "New_Loan['Loan_Amount_Term']= np.sqrt(New_Loan['Loan_Amount_Term'])"
   ]
  },
  {
   "cell_type": "code",
   "execution_count": 298,
   "id": "7b16cac8",
   "metadata": {},
   "outputs": [
    {
     "data": {
      "text/plain": [
       "Loan_ID              0.000000\n",
       "Gender              -1.622920\n",
       "Married             -0.630211\n",
       "Dependents           1.024159\n",
       "Education            1.306588\n",
       "Self_Employed        2.252848\n",
       "ApplicantIncome      0.402441\n",
       "CoapplicantIncome   -0.038951\n",
       "LoanAmount           0.017152\n",
       "Loan_Amount_Term    -2.646648\n",
       "Credit_History      -1.921860\n",
       "Property_Area       -0.055332\n",
       "Loan_Status         -0.822635\n",
       "dtype: float64"
      ]
     },
     "execution_count": 298,
     "metadata": {},
     "output_type": "execute_result"
    }
   ],
   "source": [
    "New_Loan.skew()"
   ]
  },
  {
   "cell_type": "code",
   "execution_count": 302,
   "id": "e7b77b9f",
   "metadata": {},
   "outputs": [],
   "source": [
    "correllation = New_Loan.corr()"
   ]
  },
  {
   "cell_type": "code",
   "execution_count": 303,
   "id": "011a9b23",
   "metadata": {},
   "outputs": [
    {
     "data": {
      "text/html": [
       "<div>\n",
       "<style scoped>\n",
       "    .dataframe tbody tr th:only-of-type {\n",
       "        vertical-align: middle;\n",
       "    }\n",
       "\n",
       "    .dataframe tbody tr th {\n",
       "        vertical-align: top;\n",
       "    }\n",
       "\n",
       "    .dataframe thead th {\n",
       "        text-align: right;\n",
       "    }\n",
       "</style>\n",
       "<table border=\"1\" class=\"dataframe\">\n",
       "  <thead>\n",
       "    <tr style=\"text-align: right;\">\n",
       "      <th></th>\n",
       "      <th>Loan_ID</th>\n",
       "      <th>Gender</th>\n",
       "      <th>Married</th>\n",
       "      <th>Dependents</th>\n",
       "      <th>Education</th>\n",
       "      <th>Self_Employed</th>\n",
       "      <th>ApplicantIncome</th>\n",
       "      <th>CoapplicantIncome</th>\n",
       "      <th>LoanAmount</th>\n",
       "      <th>Loan_Amount_Term</th>\n",
       "      <th>Credit_History</th>\n",
       "      <th>Property_Area</th>\n",
       "      <th>Loan_Status</th>\n",
       "    </tr>\n",
       "  </thead>\n",
       "  <tbody>\n",
       "    <tr>\n",
       "      <th>Loan_ID</th>\n",
       "      <td>1.000000</td>\n",
       "      <td>-0.011887</td>\n",
       "      <td>-0.013677</td>\n",
       "      <td>0.062509</td>\n",
       "      <td>0.053923</td>\n",
       "      <td>0.037935</td>\n",
       "      <td>0.025818</td>\n",
       "      <td>-0.041564</td>\n",
       "      <td>-0.001522</td>\n",
       "      <td>-0.019868</td>\n",
       "      <td>-0.043318</td>\n",
       "      <td>-0.164261</td>\n",
       "      <td>0.023708</td>\n",
       "    </tr>\n",
       "    <tr>\n",
       "      <th>Gender</th>\n",
       "      <td>-0.011887</td>\n",
       "      <td>1.000000</td>\n",
       "      <td>0.378997</td>\n",
       "      <td>0.188736</td>\n",
       "      <td>0.045696</td>\n",
       "      <td>-0.006207</td>\n",
       "      <td>0.055097</td>\n",
       "      <td>0.230714</td>\n",
       "      <td>0.173387</td>\n",
       "      <td>-0.103962</td>\n",
       "      <td>0.016566</td>\n",
       "      <td>-0.026340</td>\n",
       "      <td>0.017408</td>\n",
       "    </tr>\n",
       "    <tr>\n",
       "      <th>Married</th>\n",
       "      <td>-0.013677</td>\n",
       "      <td>0.378997</td>\n",
       "      <td>1.000000</td>\n",
       "      <td>0.335738</td>\n",
       "      <td>0.024817</td>\n",
       "      <td>-0.015779</td>\n",
       "      <td>-0.022057</td>\n",
       "      <td>0.320626</td>\n",
       "      <td>0.182267</td>\n",
       "      <td>-0.123513</td>\n",
       "      <td>0.013364</td>\n",
       "      <td>0.010595</td>\n",
       "      <td>0.089026</td>\n",
       "    </tr>\n",
       "    <tr>\n",
       "      <th>Dependents</th>\n",
       "      <td>0.062509</td>\n",
       "      <td>0.188736</td>\n",
       "      <td>0.335738</td>\n",
       "      <td>1.000000</td>\n",
       "      <td>0.072206</td>\n",
       "      <td>0.045268</td>\n",
       "      <td>0.110522</td>\n",
       "      <td>-0.010811</td>\n",
       "      <td>0.132189</td>\n",
       "      <td>-0.083710</td>\n",
       "      <td>-0.026936</td>\n",
       "      <td>0.010033</td>\n",
       "      <td>0.014100</td>\n",
       "    </tr>\n",
       "    <tr>\n",
       "      <th>Education</th>\n",
       "      <td>0.053923</td>\n",
       "      <td>0.045696</td>\n",
       "      <td>0.024817</td>\n",
       "      <td>0.072206</td>\n",
       "      <td>1.000000</td>\n",
       "      <td>-0.007139</td>\n",
       "      <td>-0.177932</td>\n",
       "      <td>0.030281</td>\n",
       "      <td>-0.125819</td>\n",
       "      <td>-0.100793</td>\n",
       "      <td>-0.080920</td>\n",
       "      <td>-0.068596</td>\n",
       "      <td>-0.092658</td>\n",
       "    </tr>\n",
       "    <tr>\n",
       "      <th>Self_Employed</th>\n",
       "      <td>0.037935</td>\n",
       "      <td>-0.006207</td>\n",
       "      <td>-0.015779</td>\n",
       "      <td>0.045268</td>\n",
       "      <td>-0.007139</td>\n",
       "      <td>1.000000</td>\n",
       "      <td>0.220587</td>\n",
       "      <td>-0.078584</td>\n",
       "      <td>0.117411</td>\n",
       "      <td>-0.025325</td>\n",
       "      <td>-0.014899</td>\n",
       "      <td>-0.028253</td>\n",
       "      <td>-0.026525</td>\n",
       "    </tr>\n",
       "    <tr>\n",
       "      <th>ApplicantIncome</th>\n",
       "      <td>0.025818</td>\n",
       "      <td>0.055097</td>\n",
       "      <td>-0.022057</td>\n",
       "      <td>0.110522</td>\n",
       "      <td>-0.177932</td>\n",
       "      <td>0.220587</td>\n",
       "      <td>1.000000</td>\n",
       "      <td>-0.345960</td>\n",
       "      <td>0.438662</td>\n",
       "      <td>-0.058572</td>\n",
       "      <td>0.037278</td>\n",
       "      <td>-0.012203</td>\n",
       "      <td>-0.003604</td>\n",
       "    </tr>\n",
       "    <tr>\n",
       "      <th>CoapplicantIncome</th>\n",
       "      <td>-0.041564</td>\n",
       "      <td>0.230714</td>\n",
       "      <td>0.320626</td>\n",
       "      <td>-0.010811</td>\n",
       "      <td>0.030281</td>\n",
       "      <td>-0.078584</td>\n",
       "      <td>-0.345960</td>\n",
       "      <td>1.000000</td>\n",
       "      <td>0.228319</td>\n",
       "      <td>-0.013523</td>\n",
       "      <td>-0.004059</td>\n",
       "      <td>-0.081866</td>\n",
       "      <td>0.071908</td>\n",
       "    </tr>\n",
       "    <tr>\n",
       "      <th>LoanAmount</th>\n",
       "      <td>-0.001522</td>\n",
       "      <td>0.173387</td>\n",
       "      <td>0.182267</td>\n",
       "      <td>0.132189</td>\n",
       "      <td>-0.125819</td>\n",
       "      <td>0.117411</td>\n",
       "      <td>0.438662</td>\n",
       "      <td>0.228319</td>\n",
       "      <td>1.000000</td>\n",
       "      <td>0.056210</td>\n",
       "      <td>-0.007241</td>\n",
       "      <td>-0.094665</td>\n",
       "      <td>-0.028730</td>\n",
       "    </tr>\n",
       "    <tr>\n",
       "      <th>Loan_Amount_Term</th>\n",
       "      <td>-0.019868</td>\n",
       "      <td>-0.103962</td>\n",
       "      <td>-0.123513</td>\n",
       "      <td>-0.083710</td>\n",
       "      <td>-0.100793</td>\n",
       "      <td>-0.025325</td>\n",
       "      <td>-0.058572</td>\n",
       "      <td>-0.013523</td>\n",
       "      <td>0.056210</td>\n",
       "      <td>1.000000</td>\n",
       "      <td>0.036202</td>\n",
       "      <td>-0.066056</td>\n",
       "      <td>-0.006570</td>\n",
       "    </tr>\n",
       "    <tr>\n",
       "      <th>Credit_History</th>\n",
       "      <td>-0.043318</td>\n",
       "      <td>0.016566</td>\n",
       "      <td>0.013364</td>\n",
       "      <td>-0.026936</td>\n",
       "      <td>-0.080920</td>\n",
       "      <td>-0.014899</td>\n",
       "      <td>0.037278</td>\n",
       "      <td>-0.004059</td>\n",
       "      <td>-0.007241</td>\n",
       "      <td>0.036202</td>\n",
       "      <td>1.000000</td>\n",
       "      <td>-0.009747</td>\n",
       "      <td>0.561857</td>\n",
       "    </tr>\n",
       "    <tr>\n",
       "      <th>Property_Area</th>\n",
       "      <td>-0.164261</td>\n",
       "      <td>-0.026340</td>\n",
       "      <td>0.010595</td>\n",
       "      <td>0.010033</td>\n",
       "      <td>-0.068596</td>\n",
       "      <td>-0.028253</td>\n",
       "      <td>-0.012203</td>\n",
       "      <td>-0.081866</td>\n",
       "      <td>-0.094665</td>\n",
       "      <td>-0.066056</td>\n",
       "      <td>-0.009747</td>\n",
       "      <td>1.000000</td>\n",
       "      <td>0.026507</td>\n",
       "    </tr>\n",
       "    <tr>\n",
       "      <th>Loan_Status</th>\n",
       "      <td>0.023708</td>\n",
       "      <td>0.017408</td>\n",
       "      <td>0.089026</td>\n",
       "      <td>0.014100</td>\n",
       "      <td>-0.092658</td>\n",
       "      <td>-0.026525</td>\n",
       "      <td>-0.003604</td>\n",
       "      <td>0.071908</td>\n",
       "      <td>-0.028730</td>\n",
       "      <td>-0.006570</td>\n",
       "      <td>0.561857</td>\n",
       "      <td>0.026507</td>\n",
       "      <td>1.000000</td>\n",
       "    </tr>\n",
       "  </tbody>\n",
       "</table>\n",
       "</div>"
      ],
      "text/plain": [
       "                    Loan_ID    Gender   Married  Dependents  Education  \\\n",
       "Loan_ID            1.000000 -0.011887 -0.013677    0.062509   0.053923   \n",
       "Gender            -0.011887  1.000000  0.378997    0.188736   0.045696   \n",
       "Married           -0.013677  0.378997  1.000000    0.335738   0.024817   \n",
       "Dependents         0.062509  0.188736  0.335738    1.000000   0.072206   \n",
       "Education          0.053923  0.045696  0.024817    0.072206   1.000000   \n",
       "Self_Employed      0.037935 -0.006207 -0.015779    0.045268  -0.007139   \n",
       "ApplicantIncome    0.025818  0.055097 -0.022057    0.110522  -0.177932   \n",
       "CoapplicantIncome -0.041564  0.230714  0.320626   -0.010811   0.030281   \n",
       "LoanAmount        -0.001522  0.173387  0.182267    0.132189  -0.125819   \n",
       "Loan_Amount_Term  -0.019868 -0.103962 -0.123513   -0.083710  -0.100793   \n",
       "Credit_History    -0.043318  0.016566  0.013364   -0.026936  -0.080920   \n",
       "Property_Area     -0.164261 -0.026340  0.010595    0.010033  -0.068596   \n",
       "Loan_Status        0.023708  0.017408  0.089026    0.014100  -0.092658   \n",
       "\n",
       "                   Self_Employed  ApplicantIncome  CoapplicantIncome  \\\n",
       "Loan_ID                 0.037935         0.025818          -0.041564   \n",
       "Gender                 -0.006207         0.055097           0.230714   \n",
       "Married                -0.015779        -0.022057           0.320626   \n",
       "Dependents              0.045268         0.110522          -0.010811   \n",
       "Education              -0.007139        -0.177932           0.030281   \n",
       "Self_Employed           1.000000         0.220587          -0.078584   \n",
       "ApplicantIncome         0.220587         1.000000          -0.345960   \n",
       "CoapplicantIncome      -0.078584        -0.345960           1.000000   \n",
       "LoanAmount              0.117411         0.438662           0.228319   \n",
       "Loan_Amount_Term       -0.025325        -0.058572          -0.013523   \n",
       "Credit_History         -0.014899         0.037278          -0.004059   \n",
       "Property_Area          -0.028253        -0.012203          -0.081866   \n",
       "Loan_Status            -0.026525        -0.003604           0.071908   \n",
       "\n",
       "                   LoanAmount  Loan_Amount_Term  Credit_History  \\\n",
       "Loan_ID             -0.001522         -0.019868       -0.043318   \n",
       "Gender               0.173387         -0.103962        0.016566   \n",
       "Married              0.182267         -0.123513        0.013364   \n",
       "Dependents           0.132189         -0.083710       -0.026936   \n",
       "Education           -0.125819         -0.100793       -0.080920   \n",
       "Self_Employed        0.117411         -0.025325       -0.014899   \n",
       "ApplicantIncome      0.438662         -0.058572        0.037278   \n",
       "CoapplicantIncome    0.228319         -0.013523       -0.004059   \n",
       "LoanAmount           1.000000          0.056210       -0.007241   \n",
       "Loan_Amount_Term     0.056210          1.000000        0.036202   \n",
       "Credit_History      -0.007241          0.036202        1.000000   \n",
       "Property_Area       -0.094665         -0.066056       -0.009747   \n",
       "Loan_Status         -0.028730         -0.006570        0.561857   \n",
       "\n",
       "                   Property_Area  Loan_Status  \n",
       "Loan_ID                -0.164261     0.023708  \n",
       "Gender                 -0.026340     0.017408  \n",
       "Married                 0.010595     0.089026  \n",
       "Dependents              0.010033     0.014100  \n",
       "Education              -0.068596    -0.092658  \n",
       "Self_Employed          -0.028253    -0.026525  \n",
       "ApplicantIncome        -0.012203    -0.003604  \n",
       "CoapplicantIncome      -0.081866     0.071908  \n",
       "LoanAmount             -0.094665    -0.028730  \n",
       "Loan_Amount_Term       -0.066056    -0.006570  \n",
       "Credit_History         -0.009747     0.561857  \n",
       "Property_Area           1.000000     0.026507  \n",
       "Loan_Status             0.026507     1.000000  "
      ]
     },
     "execution_count": 303,
     "metadata": {},
     "output_type": "execute_result"
    }
   ],
   "source": [
    "correllation"
   ]
  },
  {
   "cell_type": "code",
   "execution_count": 304,
   "id": "50edd2f9",
   "metadata": {},
   "outputs": [
    {
     "data": {
      "image/png": "[encoded data removed]",
      "text/plain": [
       "<Figure size 2000x1500 with 2 Axes>"
      ]
     },
     "metadata": {},
     "output_type": "display_data"
    }
   ],
   "source": [
    "plt.figure(figsize = (20,15))\n",
    "sns.heatmap(New_Loan.corr(), linewidths = 0.1, fmt = '.2g', linecolor = 'green', annot= True)\n",
    "plt.yticks(rotation = 0);\n",
    "plt.show()"
   ]
  },
  {
   "cell_type": "code",
   "execution_count": 306,
   "id": "c0194504",
   "metadata": {},
   "outputs": [
    {
     "data": {
      "text/plain": [
       "Loan_Status          1.000000\n",
       "Credit_History       0.561857\n",
       "Married              0.089026\n",
       "CoapplicantIncome    0.071908\n",
       "Property_Area        0.026507\n",
       "Loan_ID              0.023708\n",
       "Gender               0.017408\n",
       "Dependents           0.014100\n",
       "ApplicantIncome     -0.003604\n",
       "Loan_Amount_Term    -0.006570\n",
       "Self_Employed       -0.026525\n",
       "LoanAmount          -0.028730\n",
       "Education           -0.092658\n",
       "Name: Loan_Status, dtype: float64"
      ]
     },
     "execution_count": 306,
     "metadata": {},
     "output_type": "execute_result"
    }
   ],
   "source": [
    "correllation['Loan_Status'].sort_values(ascending = False)"
   ]
  },
  {
   "cell_type": "code",
   "execution_count": 307,
   "id": "88eb1e78",
   "metadata": {},
   "outputs": [],
   "source": [
    "Features = New_Loan.drop(columns = ['Loan_Status'])\n",
    "Label = New_Loan['Loan_Status']"
   ]
  },
  {
   "cell_type": "code",
   "execution_count": null,
   "id": "d52a8cbf",
   "metadata": {},
   "outputs": [],
   "source": [
    "from collections import Counter as C\n",
    "C(Temperature['Loan_Status'])\n"
   ]
  },
  {
   "cell_type": "code",
   "execution_count": 308,
   "id": "311acf42",
   "metadata": {},
   "outputs": [
    {
     "data": {
      "text/html": [
       "<div>\n",
       "<style scoped>\n",
       "    .dataframe tbody tr th:only-of-type {\n",
       "        vertical-align: middle;\n",
       "    }\n",
       "\n",
       "    .dataframe tbody tr th {\n",
       "        vertical-align: top;\n",
       "    }\n",
       "\n",
       "    .dataframe thead th {\n",
       "        text-align: right;\n",
       "    }\n",
       "</style>\n",
       "<table border=\"1\" class=\"dataframe\">\n",
       "  <thead>\n",
       "    <tr style=\"text-align: right;\">\n",
       "      <th></th>\n",
       "      <th>Loan_ID</th>\n",
       "      <th>Gender</th>\n",
       "      <th>Married</th>\n",
       "      <th>Dependents</th>\n",
       "      <th>Education</th>\n",
       "      <th>Self_Employed</th>\n",
       "      <th>ApplicantIncome</th>\n",
       "      <th>CoapplicantIncome</th>\n",
       "      <th>LoanAmount</th>\n",
       "      <th>Loan_Amount_Term</th>\n",
       "      <th>Credit_History</th>\n",
       "      <th>Property_Area</th>\n",
       "    </tr>\n",
       "  </thead>\n",
       "  <tbody>\n",
       "    <tr>\n",
       "      <th>0</th>\n",
       "      <td>-1.729052</td>\n",
       "      <td>0.477137</td>\n",
       "      <td>-1.362511</td>\n",
       "      <td>-0.748497</td>\n",
       "      <td>-0.541961</td>\n",
       "      <td>-0.380580</td>\n",
       "      <td>0.662573</td>\n",
       "      <td>-1.093504</td>\n",
       "      <td>0.318405</td>\n",
       "      <td>0.262475</td>\n",
       "      <td>0.456461</td>\n",
       "      <td>1.227472</td>\n",
       "    </tr>\n",
       "    <tr>\n",
       "      <th>1</th>\n",
       "      <td>-1.723048</td>\n",
       "      <td>0.477137</td>\n",
       "      <td>0.733939</td>\n",
       "      <td>0.264257</td>\n",
       "      <td>-0.541961</td>\n",
       "      <td>-0.380580</td>\n",
       "      <td>0.205108</td>\n",
       "      <td>0.596681</td>\n",
       "      <td>-0.012836</td>\n",
       "      <td>0.262475</td>\n",
       "      <td>0.456461</td>\n",
       "      <td>-1.306522</td>\n",
       "    </tr>\n",
       "    <tr>\n",
       "      <th>2</th>\n",
       "      <td>-1.717044</td>\n",
       "      <td>0.477137</td>\n",
       "      <td>0.733939</td>\n",
       "      <td>-0.748497</td>\n",
       "      <td>-0.541961</td>\n",
       "      <td>2.627567</td>\n",
       "      <td>-0.546713</td>\n",
       "      <td>-1.093504</td>\n",
       "      <td>-1.445145</td>\n",
       "      <td>0.262475</td>\n",
       "      <td>0.456461</td>\n",
       "      <td>1.227472</td>\n",
       "    </tr>\n",
       "    <tr>\n",
       "      <th>3</th>\n",
       "      <td>-1.711041</td>\n",
       "      <td>0.477137</td>\n",
       "      <td>0.733939</td>\n",
       "      <td>-0.748497</td>\n",
       "      <td>1.845150</td>\n",
       "      <td>-0.380580</td>\n",
       "      <td>-0.799812</td>\n",
       "      <td>0.868268</td>\n",
       "      <td>-0.166705</td>\n",
       "      <td>0.262475</td>\n",
       "      <td>0.456461</td>\n",
       "      <td>1.227472</td>\n",
       "    </tr>\n",
       "    <tr>\n",
       "      <th>4</th>\n",
       "      <td>-1.705037</td>\n",
       "      <td>0.477137</td>\n",
       "      <td>-1.362511</td>\n",
       "      <td>-0.748497</td>\n",
       "      <td>-0.541961</td>\n",
       "      <td>-0.380580</td>\n",
       "      <td>0.711459</td>\n",
       "      <td>-1.093504</td>\n",
       "      <td>0.224069</td>\n",
       "      <td>0.262475</td>\n",
       "      <td>0.456461</td>\n",
       "      <td>1.227472</td>\n",
       "    </tr>\n",
       "    <tr>\n",
       "      <th>...</th>\n",
       "      <td>...</td>\n",
       "      <td>...</td>\n",
       "      <td>...</td>\n",
       "      <td>...</td>\n",
       "      <td>...</td>\n",
       "      <td>...</td>\n",
       "      <td>...</td>\n",
       "      <td>...</td>\n",
       "      <td>...</td>\n",
       "      <td>...</td>\n",
       "      <td>...</td>\n",
       "      <td>...</td>\n",
       "    </tr>\n",
       "    <tr>\n",
       "      <th>572</th>\n",
       "      <td>1.705037</td>\n",
       "      <td>-2.095835</td>\n",
       "      <td>-1.362511</td>\n",
       "      <td>-0.748497</td>\n",
       "      <td>-0.541961</td>\n",
       "      <td>-0.380580</td>\n",
       "      <td>-0.604600</td>\n",
       "      <td>-1.093504</td>\n",
       "      <td>-1.302297</td>\n",
       "      <td>0.262475</td>\n",
       "      <td>0.456461</td>\n",
       "      <td>-1.306522</td>\n",
       "    </tr>\n",
       "    <tr>\n",
       "      <th>573</th>\n",
       "      <td>1.711041</td>\n",
       "      <td>0.477137</td>\n",
       "      <td>0.733939</td>\n",
       "      <td>2.289765</td>\n",
       "      <td>-0.541961</td>\n",
       "      <td>-0.380580</td>\n",
       "      <td>0.004982</td>\n",
       "      <td>-1.093504</td>\n",
       "      <td>-2.336409</td>\n",
       "      <td>-3.388846</td>\n",
       "      <td>0.456461</td>\n",
       "      <td>-1.306522</td>\n",
       "    </tr>\n",
       "    <tr>\n",
       "      <th>574</th>\n",
       "      <td>1.717044</td>\n",
       "      <td>0.477137</td>\n",
       "      <td>0.733939</td>\n",
       "      <td>0.264257</td>\n",
       "      <td>-0.541961</td>\n",
       "      <td>-0.380580</td>\n",
       "      <td>1.295942</td>\n",
       "      <td>-0.177556</td>\n",
       "      <td>1.830577</td>\n",
       "      <td>0.262475</td>\n",
       "      <td>0.456461</td>\n",
       "      <td>1.227472</td>\n",
       "    </tr>\n",
       "    <tr>\n",
       "      <th>575</th>\n",
       "      <td>1.723048</td>\n",
       "      <td>0.477137</td>\n",
       "      <td>0.733939</td>\n",
       "      <td>1.277011</td>\n",
       "      <td>-0.541961</td>\n",
       "      <td>-0.380580</td>\n",
       "      <td>1.170397</td>\n",
       "      <td>-1.093504</td>\n",
       "      <td>0.960923</td>\n",
       "      <td>0.262475</td>\n",
       "      <td>0.456461</td>\n",
       "      <td>1.227472</td>\n",
       "    </tr>\n",
       "    <tr>\n",
       "      <th>576</th>\n",
       "      <td>1.729052</td>\n",
       "      <td>-2.095835</td>\n",
       "      <td>-1.362511</td>\n",
       "      <td>-0.748497</td>\n",
       "      <td>-0.541961</td>\n",
       "      <td>2.627567</td>\n",
       "      <td>0.205108</td>\n",
       "      <td>-1.093504</td>\n",
       "      <td>0.080100</td>\n",
       "      <td>0.262475</td>\n",
       "      <td>-2.372488</td>\n",
       "      <td>-0.039525</td>\n",
       "    </tr>\n",
       "  </tbody>\n",
       "</table>\n",
       "<p>577 rows × 12 columns</p>\n",
       "</div>"
      ],
      "text/plain": [
       "      Loan_ID    Gender   Married  Dependents  Education  Self_Employed  \\\n",
       "0   -1.729052  0.477137 -1.362511   -0.748497  -0.541961      -0.380580   \n",
       "1   -1.723048  0.477137  0.733939    0.264257  -0.541961      -0.380580   \n",
       "2   -1.717044  0.477137  0.733939   -0.748497  -0.541961       2.627567   \n",
       "3   -1.711041  0.477137  0.733939   -0.748497   1.845150      -0.380580   \n",
       "4   -1.705037  0.477137 -1.362511   -0.748497  -0.541961      -0.380580   \n",
       "..        ...       ...       ...         ...        ...            ...   \n",
       "572  1.705037 -2.095835 -1.362511   -0.748497  -0.541961      -0.380580   \n",
       "573  1.711041  0.477137  0.733939    2.289765  -0.541961      -0.380580   \n",
       "574  1.717044  0.477137  0.733939    0.264257  -0.541961      -0.380580   \n",
       "575  1.723048  0.477137  0.733939    1.277011  -0.541961      -0.380580   \n",
       "576  1.729052 -2.095835 -1.362511   -0.748497  -0.541961       2.627567   \n",
       "\n",
       "     ApplicantIncome  CoapplicantIncome  LoanAmount  Loan_Amount_Term  \\\n",
       "0           0.662573          -1.093504    0.318405          0.262475   \n",
       "1           0.205108           0.596681   -0.012836          0.262475   \n",
       "2          -0.546713          -1.093504   -1.445145          0.262475   \n",
       "3          -0.799812           0.868268   -0.166705          0.262475   \n",
       "4           0.711459          -1.093504    0.224069          0.262475   \n",
       "..               ...                ...         ...               ...   \n",
       "572        -0.604600          -1.093504   -1.302297          0.262475   \n",
       "573         0.004982          -1.093504   -2.336409         -3.388846   \n",
       "574         1.295942          -0.177556    1.830577          0.262475   \n",
       "575         1.170397          -1.093504    0.960923          0.262475   \n",
       "576         0.205108          -1.093504    0.080100          0.262475   \n",
       "\n",
       "     Credit_History  Property_Area  \n",
       "0          0.456461       1.227472  \n",
       "1          0.456461      -1.306522  \n",
       "2          0.456461       1.227472  \n",
       "3          0.456461       1.227472  \n",
       "4          0.456461       1.227472  \n",
       "..              ...            ...  \n",
       "572        0.456461      -1.306522  \n",
       "573        0.456461      -1.306522  \n",
       "574        0.456461       1.227472  \n",
       "575        0.456461       1.227472  \n",
       "576       -2.372488      -0.039525  \n",
       "\n",
       "[577 rows x 12 columns]"
      ]
     },
     "execution_count": 308,
     "metadata": {},
     "output_type": "execute_result"
    }
   ],
   "source": [
    "scaler = StandardScaler()\n",
    "Features = pd.DataFrame(scaler.fit_transform(Features),columns = Features.columns)\n",
    "Features"
   ]
  },
  {
   "cell_type": "code",
   "execution_count": 309,
   "id": "20edf723",
   "metadata": {},
   "outputs": [
    {
     "data": {
      "text/html": [
       "<div>\n",
       "<style scoped>\n",
       "    .dataframe tbody tr th:only-of-type {\n",
       "        vertical-align: middle;\n",
       "    }\n",
       "\n",
       "    .dataframe tbody tr th {\n",
       "        vertical-align: top;\n",
       "    }\n",
       "\n",
       "    .dataframe thead th {\n",
       "        text-align: right;\n",
       "    }\n",
       "</style>\n",
       "<table border=\"1\" class=\"dataframe\">\n",
       "  <thead>\n",
       "    <tr style=\"text-align: right;\">\n",
       "      <th></th>\n",
       "      <th>vif values</th>\n",
       "      <th>features</th>\n",
       "    </tr>\n",
       "  </thead>\n",
       "  <tbody>\n",
       "    <tr>\n",
       "      <th>0</th>\n",
       "      <td>1.040642</td>\n",
       "      <td>Loan_ID</td>\n",
       "    </tr>\n",
       "    <tr>\n",
       "      <th>1</th>\n",
       "      <td>1.221513</td>\n",
       "      <td>Gender</td>\n",
       "    </tr>\n",
       "    <tr>\n",
       "      <th>2</th>\n",
       "      <td>1.408940</td>\n",
       "      <td>Married</td>\n",
       "    </tr>\n",
       "    <tr>\n",
       "      <th>3</th>\n",
       "      <td>1.184403</td>\n",
       "      <td>Dependents</td>\n",
       "    </tr>\n",
       "    <tr>\n",
       "      <th>4</th>\n",
       "      <td>1.075686</td>\n",
       "      <td>Education</td>\n",
       "    </tr>\n",
       "    <tr>\n",
       "      <th>5</th>\n",
       "      <td>1.056250</td>\n",
       "      <td>Self_Employed</td>\n",
       "    </tr>\n",
       "    <tr>\n",
       "      <th>6</th>\n",
       "      <td>1.795775</td>\n",
       "      <td>ApplicantIncome</td>\n",
       "    </tr>\n",
       "    <tr>\n",
       "      <th>7</th>\n",
       "      <td>1.605018</td>\n",
       "      <td>CoapplicantIncome</td>\n",
       "    </tr>\n",
       "    <tr>\n",
       "      <th>8</th>\n",
       "      <td>1.614313</td>\n",
       "      <td>LoanAmount</td>\n",
       "    </tr>\n",
       "    <tr>\n",
       "      <th>9</th>\n",
       "      <td>1.060776</td>\n",
       "      <td>Loan_Amount_Term</td>\n",
       "    </tr>\n",
       "    <tr>\n",
       "      <th>10</th>\n",
       "      <td>1.013686</td>\n",
       "      <td>Credit_History</td>\n",
       "    </tr>\n",
       "    <tr>\n",
       "      <th>11</th>\n",
       "      <td>1.057077</td>\n",
       "      <td>Property_Area</td>\n",
       "    </tr>\n",
       "  </tbody>\n",
       "</table>\n",
       "</div>"
      ],
      "text/plain": [
       "    vif values           features\n",
       "0     1.040642            Loan_ID\n",
       "1     1.221513             Gender\n",
       "2     1.408940            Married\n",
       "3     1.184403         Dependents\n",
       "4     1.075686          Education\n",
       "5     1.056250      Self_Employed\n",
       "6     1.795775    ApplicantIncome\n",
       "7     1.605018  CoapplicantIncome\n",
       "8     1.614313         LoanAmount\n",
       "9     1.060776   Loan_Amount_Term\n",
       "10    1.013686     Credit_History\n",
       "11    1.057077      Property_Area"
      ]
     },
     "execution_count": 309,
     "metadata": {},
     "output_type": "execute_result"
    }
   ],
   "source": [
    "vif = pd.DataFrame()\n",
    "vif['vif values']= [variance_inflation_factor(Features.values, i) for i in range(len(Features.columns))]\n",
    "vif['features'] = Features.columns\n",
    "vif"
   ]
  },
  {
   "cell_type": "code",
   "execution_count": 310,
   "id": "cd367a84",
   "metadata": {},
   "outputs": [],
   "source": [
    "from imblearn.over_sampling import SMOTE\n",
    "SM = SMOTE()\n",
    "Features1,Label1 = SM.fit_resample(Features,Label)"
   ]
  },
  {
   "cell_type": "code",
   "execution_count": 311,
   "id": "01c5f28e",
   "metadata": {},
   "outputs": [
    {
     "data": {
      "text/plain": [
       "1.0    398\n",
       "0.0    398\n",
       "Name: Loan_Status, dtype: int64"
      ]
     },
     "execution_count": 311,
     "metadata": {},
     "output_type": "execute_result"
    }
   ],
   "source": [
    "Label1.value_counts()"
   ]
  },
  {
   "cell_type": "code",
   "execution_count": 312,
   "id": "4b58206e",
   "metadata": {},
   "outputs": [],
   "source": [
    "from sklearn.model_selection import train_test_split\n",
    "from sklearn.model_selection import KFold,cross_val_score\n",
    "from sklearn.neighbors import KNeighborsRegressor as KNN\n",
    "from sklearn.ensemble import GradientBoostingClassifier,RandomForestClassifier,BaggingClassifier\n",
    "from sklearn.linear_model import LinearRegression\n",
    "from sklearn.tree import DecisionTreeClassifier,DecisionTreeRegressor\n",
    "from sklearn.neighbors import KNeighborsClassifier\n",
    "from sklearn.metrics import accuracy_score"
   ]
  },
  {
   "cell_type": "code",
   "execution_count": 313,
   "id": "ad1d4e1f",
   "metadata": {},
   "outputs": [],
   "source": [
    "x_train,x_test,y_train,y_test = train_test_split(Features1,Label1, test_size = 0.25, random_state = 150)"
   ]
  },
  {
   "cell_type": "code",
   "execution_count": 314,
   "id": "4c07929d",
   "metadata": {},
   "outputs": [],
   "source": [
    "def metric_score(clf, x_train, x_test, y_train, y_test, train=True):\n",
    "    if train:\n",
    "        y_pred = clf.predict(x_train)\n",
    "        print('\\n_____________________train result_____________________')\n",
    "        print(f'accuracy score: {accuracy_score(y_train,y_pred)}')\n",
    "    elif train==False:\n",
    "        pred = clf.predict(x_test)\n",
    "        print('\\n_____________________train result_____________________')\n",
    "        print(f'accuracy score: {accuracy_score(y_test,pred)}')\n",
    "        print('*\\n   \\n test classification report \\n',classification_report(y_test,pred,digits=2))"
   ]
  },
  {
   "cell_type": "code",
   "execution_count": 315,
   "id": "fe7279d8",
   "metadata": {},
   "outputs": [
    {
     "data": {
      "text/plain": [
       "KNeighborsClassifier()"
      ]
     },
     "execution_count": 315,
     "metadata": {},
     "output_type": "execute_result"
    }
   ],
   "source": [
    "knn = KNeighborsClassifier()\n",
    "knn.fit(x_train,y_train)"
   ]
  },
  {
   "cell_type": "code",
   "execution_count": 316,
   "id": "4d293afd",
   "metadata": {},
   "outputs": [
    {
     "name": "stdout",
     "output_type": "stream",
     "text": [
      "\n",
      "_____________________train result_____________________\n",
      "accuracy score: 0.8659966499162479\n",
      "\n",
      "_____________________train result_____________________\n",
      "accuracy score: 0.7437185929648241\n",
      "*\n",
      "   \n",
      " test classification report \n",
      "               precision    recall  f1-score   support\n",
      "\n",
      "         0.0       0.73      0.78      0.75        99\n",
      "         1.0       0.76      0.71      0.74       100\n",
      "\n",
      "    accuracy                           0.74       199\n",
      "   macro avg       0.74      0.74      0.74       199\n",
      "weighted avg       0.75      0.74      0.74       199\n",
      "\n"
     ]
    }
   ],
   "source": [
    "metric_score(knn,x_train,x_test,y_train,y_test,train=True)\n",
    "metric_score(knn,x_train,x_test,y_train,y_test,train=False)"
   ]
  },
  {
   "cell_type": "code",
   "execution_count": 317,
   "id": "df253049",
   "metadata": {},
   "outputs": [
    {
     "name": "stdout",
     "output_type": "stream",
     "text": [
      "accuracy score: 0.8140703517587939\n",
      "confusion matrix: [[87 12]\n",
      " [25 75]]\n",
      "classification report:               precision    recall  f1-score   support\n",
      "\n",
      "         0.0       0.78      0.88      0.82        99\n",
      "         1.0       0.86      0.75      0.80       100\n",
      "\n",
      "    accuracy                           0.81       199\n",
      "   macro avg       0.82      0.81      0.81       199\n",
      "weighted avg       0.82      0.81      0.81       199\n",
      "\n"
     ]
    }
   ],
   "source": [
    "bc = BaggingClassifier()\n",
    "bc.fit(x_train,y_train)\n",
    "pred_bc = bc.predict(x_test)\n",
    "pred_train = bc.predict(x_train)\n",
    "print ('accuracy score:', accuracy_score(y_test,pred_bc))\n",
    "print ('confusion matrix:', confusion_matrix(y_test,pred_bc))\n",
    "print ('classification report:', classification_report(y_test,pred_bc))"
   ]
  },
  {
   "cell_type": "code",
   "execution_count": 318,
   "id": "461eff91",
   "metadata": {},
   "outputs": [
    {
     "name": "stdout",
     "output_type": "stream",
     "text": [
      "accuracy score: 0.8291457286432161\n",
      "confusion matrix: [[82 17]\n",
      " [17 83]]\n",
      "classification report:               precision    recall  f1-score   support\n",
      "\n",
      "         0.0       0.83      0.83      0.83        99\n",
      "         1.0       0.83      0.83      0.83       100\n",
      "\n",
      "    accuracy                           0.83       199\n",
      "   macro avg       0.83      0.83      0.83       199\n",
      "weighted avg       0.83      0.83      0.83       199\n",
      "\n"
     ]
    }
   ],
   "source": [
    "gbc = GradientBoostingClassifier()\n",
    "gbc.fit(x_train,y_train)\n",
    "pred_gbc = gbc.predict(x_test)\n",
    "pred_train = gbc.predict(x_train)\n",
    "print ('accuracy score:', accuracy_score(y_test,pred_gbc))\n",
    "print ('confusion matrix:', confusion_matrix(y_test,pred_gbc))\n",
    "print ('classification report:', classification_report(y_test,pred_gbc))"
   ]
  },
  {
   "cell_type": "code",
   "execution_count": 319,
   "id": "448c2ee9",
   "metadata": {},
   "outputs": [
    {
     "data": {
      "text/plain": [
       "array([0.725     , 0.63522013, 0.81132075, 0.77987421, 0.77358491])"
      ]
     },
     "execution_count": 319,
     "metadata": {},
     "output_type": "execute_result"
    }
   ],
   "source": [
    "cross_val_score(knn,Features1,Label1,cv=5)"
   ]
  },
  {
   "cell_type": "code",
   "execution_count": 321,
   "id": "db64d495",
   "metadata": {},
   "outputs": [
    {
     "data": {
      "text/plain": [
       "0.7449999999999999"
      ]
     },
     "execution_count": 321,
     "metadata": {},
     "output_type": "execute_result"
    }
   ],
   "source": [
    "cross_val_score(knn,Features1,Label1,cv=5).mean()"
   ]
  },
  {
   "cell_type": "code",
   "execution_count": 322,
   "id": "658d7761",
   "metadata": {},
   "outputs": [
    {
     "data": {
      "text/plain": [
       "0.4233962264150944"
      ]
     },
     "execution_count": 322,
     "metadata": {},
     "output_type": "execute_result"
    }
   ],
   "source": [
    "cross_val_score(bc,Features1,Label1,cv=5)\n",
    "cross_val_score(bc,Features1,Label1,cv=5).mean()"
   ]
  },
  {
   "cell_type": "code",
   "execution_count": 323,
   "id": "46df5afd",
   "metadata": {},
   "outputs": [
    {
     "data": {
      "text/plain": [
       "0.39075471698113207"
      ]
     },
     "execution_count": 323,
     "metadata": {},
     "output_type": "execute_result"
    }
   ],
   "source": [
    "cross_val_score(gbc,Features1,Label1,cv=5)\n",
    "cross_val_score(gbc,Features1,Label1,cv=5).mean()"
   ]
  },
  {
   "cell_type": "code",
   "execution_count": 324,
   "id": "e2d1809e",
   "metadata": {},
   "outputs": [],
   "source": [
    "from sklearn.model_selection import GridSearchCV"
   ]
  },
  {
   "cell_type": "code",
   "execution_count": 339,
   "id": "f68b570c",
   "metadata": {},
   "outputs": [],
   "source": [
    "params_grid = {'n_estimators':[20,56,70,150],\n",
    "             'max_features': [1.0,2.0,5.0,8.0],\n",
    "             'bootstrap':[True, False],\n",
    "             'max_samples':[1.0,2.0,5.0,8.0],\n",
    "              'warm_start':[True,False]\n",
    "             }"
   ]
  },
  {
   "cell_type": "code",
   "execution_count": 340,
   "id": "98fe99e3",
   "metadata": {},
   "outputs": [],
   "source": [
    "grid_search =GridSearchCV(estimator=bc, param_grid = params_grid, cv = 5)\n"
   ]
  },
  {
   "cell_type": "code",
   "execution_count": 341,
   "id": "0b5907e8",
   "metadata": {},
   "outputs": [
    {
     "data": {
      "text/plain": [
       "GridSearchCV(cv=5, estimator=BaggingClassifier(),\n",
       "             param_grid={'bootstrap': [True, False],\n",
       "                         'max_features': [1.0, 2.0, 5.0, 8.0],\n",
       "                         'max_samples': [1.0, 2.0, 5.0, 8.0],\n",
       "                         'n_estimators': [20, 56, 70, 150],\n",
       "                         'warm_start': [True, False]})"
      ]
     },
     "execution_count": 341,
     "metadata": {},
     "output_type": "execute_result"
    }
   ],
   "source": [
    "grid_search.fit(x_train,y_train)"
   ]
  },
  {
   "cell_type": "code",
   "execution_count": 342,
   "id": "a1790f3a",
   "metadata": {},
   "outputs": [
    {
     "name": "stdout",
     "output_type": "stream",
     "text": [
      "{'bootstrap': True, 'max_features': 1.0, 'max_samples': 1.0, 'n_estimators': 150, 'warm_start': True}\n"
     ]
    }
   ],
   "source": [
    "my_best_parameter = grid_search.best_params_\n",
    "print(my_best_parameter)"
   ]
  },
  {
   "cell_type": "code",
   "execution_count": 344,
   "id": "f6dfa77e",
   "metadata": {},
   "outputs": [],
   "source": [
    "bc_final = BaggingClassifier(n_estimators = 150, bootstrap= True, max_features= 1.0, max_samples =1.0, warm_start = True)"
   ]
  },
  {
   "cell_type": "code",
   "execution_count": 345,
   "id": "0c2fa5ed",
   "metadata": {},
   "outputs": [
    {
     "data": {
      "text/plain": [
       "BaggingClassifier(n_estimators=150, warm_start=True)"
      ]
     },
     "execution_count": 345,
     "metadata": {},
     "output_type": "execute_result"
    }
   ],
   "source": [
    "bc_final"
   ]
  },
  {
   "cell_type": "code",
   "execution_count": 347,
   "id": "a2f2ed30",
   "metadata": {},
   "outputs": [
    {
     "name": "stdout",
     "output_type": "stream",
     "text": [
      "83.41708542713567\n"
     ]
    }
   ],
   "source": [
    "bc_final.fit(x_train,y_train)\n",
    "my_prediction = bc_final.predict(x_test)\n",
    "accuraccy = accuracy_score(y_test,my_prediction)\n",
    "print(accuraccy*100)"
   ]
  },
  {
   "cell_type": "code",
   "execution_count": 349,
   "id": "e29b1e6c",
   "metadata": {},
   "outputs": [
    {
     "data": {
      "text/plain": [
       "<sklearn.metrics._plot.roc_curve.RocCurveDisplay at 0x18464034220>"
      ]
     },
     "execution_count": 349,
     "metadata": {},
     "output_type": "execute_result"
    },
    {
     "data": {
      "image/png": "[encoded data removed]",
      "text/plain": [
       "<Figure size 640x480 with 1 Axes>"
      ]
     },
     "metadata": {},
     "output_type": "display_data"
    }
   ],
   "source": [
    "fpr, tpr, thresholds = metrics.roc_curve(y_test,my_prediction)\n",
    "roc_auc = metrics.auc(fpr,tpr)\n",
    "display = metrics.RocCurveDisplay(fpr = fpr, tpr = tpr, roc_auc = roc_auc, estimator_name = bc_final)\n",
    "display.plot()"
   ]
  },
  {
   "cell_type": "code",
   "execution_count": 350,
   "id": "efbb106f",
   "metadata": {},
   "outputs": [
    {
     "data": {
      "text/plain": [
       "['Loan_Approver_prediction.pkl']"
      ]
     },
     "execution_count": 350,
     "metadata": {},
     "output_type": "execute_result"
    }
   ],
   "source": [
    "import pickle\n",
    "import joblib\n",
    "joblib.dump(bc_final,'Loan_Approver_prediction.pkl')"
   ]
  },
  {
   "cell_type": "code",
   "execution_count": 351,
   "id": "0ea64dbc",
   "metadata": {},
   "outputs": [
    {
     "data": {
      "text/plain": [
       "array([1., 0., 1., 0., 0., 1., 0., 1., 0., 0., 0., 0., 1., 1., 0., 1., 1.,\n",
       "       1., 1., 1., 0., 1., 1., 1., 0., 0., 0., 1., 0., 0., 0., 1., 1., 0.,\n",
       "       0., 0., 0., 0., 0., 1., 0., 0., 0., 0., 0., 1., 1., 1., 0., 1., 0.,\n",
       "       1., 1., 1., 0., 0., 1., 1., 0., 1., 0., 1., 1., 1., 0., 0., 0., 1.,\n",
       "       0., 0., 1., 0., 0., 1., 1., 1., 0., 0., 1., 0., 0., 1., 1., 0., 1.,\n",
       "       0., 0., 0., 1., 1., 0., 1., 1., 0., 0., 0., 1., 1., 1., 0., 0., 0.,\n",
       "       1., 1., 1., 1., 1., 0., 1., 0., 1., 0., 1., 0., 1., 0., 1., 1., 1.,\n",
       "       1., 1., 1., 0., 0., 0., 0., 1., 0., 0., 1., 0., 0., 1., 1., 0., 1.,\n",
       "       1., 1., 0., 0., 0., 1., 0., 0., 0., 1., 1., 0., 0., 0., 1., 1., 1.,\n",
       "       0., 1., 1., 0., 0., 0., 1., 1., 0., 0., 0., 0., 1., 0., 1., 1., 0.,\n",
       "       1., 0., 0., 1., 0., 1., 0., 1., 0., 0., 1., 0., 0., 1., 0., 0., 1.,\n",
       "       1., 1., 1., 1., 1., 1., 0., 0., 0., 0., 1., 1.])"
      ]
     },
     "execution_count": 351,
     "metadata": {},
     "output_type": "execute_result"
    }
   ],
   "source": [
    "model = joblib.load('Loan_Approver_prediction.pkl')\n",
    "prediction = model.predict(x_test)\n",
    "prediction"
   ]
  },
  {
   "cell_type": "markdown",
   "id": "20735942",
   "metadata": {},
   "source": [
    "* This is a loan application status data where I am require to build a model that predict the loan of the applicant will be approved or not\n",
    "* The Label/target variable is the Loan Status. \n",
    "* The dataset consist of 614 entries in 13 columns\n",
    "* The dataset is of two data type. object and float 64 data type.\n",
    "* I convert the object data type in dependent column to float as this suppose to be a float data type.\n",
    "* I proceed by filling all the null values with mean and mode method accordingly.\n",
    "* I remove the skewness by using the cuberoot method and check for the correlation.\n",
    "* I standardise the data and took the vif.\n",
    "* I balance the target data by SMOTE method, I then separate the target variables from the features.\n",
    "* Because it is classification problem so i used GradientBoostingClassifier,RandomForestClassifier,BaggingClassifier and KNeighborsClassifier.\n",
    "* Because the BaggingClassifier gives the least cross validation score I then applied hyper parameter tunning and choose it as my best model for this project."
   ]
  },
  {
   "cell_type": "code",
   "execution_count": null,
   "id": "7c753e29",
   "metadata": {},
   "outputs": [],
   "source": []
  }
 ],
 "metadata": {
  "kernelspec": {
   "display_name": "Python 3 (ipykernel)",
   "language": "python",
   "name": "python3"
  },
  "language_info": {
   "codemirror_mode": {
    "name": "ipython",
    "version": 3
   },
   "file_extension": ".py",
   "mimetype": "text/x-python",
   "name": "python",
   "nbconvert_exporter": "python",
   "pygments_lexer": "ipython3",
   "version": "3.9.13"
  }
 },
 "nbformat": 4,
 "nbformat_minor": 5
}
