{
 "cells": [
  {
   "cell_type": "code",
   "execution_count": 131,
   "id": "d4c83f64",
   "metadata": {},
   "outputs": [],
   "source": [
    "import pandas as pd\n",
    "import numpy as np\n",
    "from sklearn.preprocessing import StandardScaler, OrdinalEncoder,LabelEncoder\n",
    "from sklearn.linear_model import LogisticRegression\n",
    "from statsmodels.stats.outliers_influence import variance_inflation_factor\n",
    "from sklearn.metrics import accuracy_score, confusion_matrix, roc_curve, roc_auc_score,classification_report\n",
    "import matplotlib.pyplot as plt\n",
    "import seaborn as sns\n",
    "from sklearn.decomposition import PCA\n",
    "import warnings\n",
    "warnings.filterwarnings('ignore')"
   ]
  },
  {
   "cell_type": "code",
   "execution_count": 132,
   "id": "e2082c77",
   "metadata": {},
   "outputs": [
    {
     "data": {
      "text/html": [
       "<div>\n",
       "<style scoped>\n",
       "    .dataframe tbody tr th:only-of-type {\n",
       "        vertical-align: middle;\n",
       "    }\n",
       "\n",
       "    .dataframe tbody tr th {\n",
       "        vertical-align: top;\n",
       "    }\n",
       "\n",
       "    .dataframe thead th {\n",
       "        text-align: right;\n",
       "    }\n",
       "</style>\n",
       "<table border=\"1\" class=\"dataframe\">\n",
       "  <thead>\n",
       "    <tr style=\"text-align: right;\">\n",
       "      <th></th>\n",
       "      <th>station</th>\n",
       "      <th>Date</th>\n",
       "      <th>Present_Tmax</th>\n",
       "      <th>Present_Tmin</th>\n",
       "      <th>LDAPS_RHmin</th>\n",
       "      <th>LDAPS_RHmax</th>\n",
       "      <th>LDAPS_Tmax_lapse</th>\n",
       "      <th>LDAPS_Tmin_lapse</th>\n",
       "      <th>LDAPS_WS</th>\n",
       "      <th>LDAPS_LH</th>\n",
       "      <th>...</th>\n",
       "      <th>LDAPS_PPT2</th>\n",
       "      <th>LDAPS_PPT3</th>\n",
       "      <th>LDAPS_PPT4</th>\n",
       "      <th>lat</th>\n",
       "      <th>lon</th>\n",
       "      <th>DEM</th>\n",
       "      <th>Slope</th>\n",
       "      <th>Solar radiation</th>\n",
       "      <th>Next_Tmax</th>\n",
       "      <th>Next_Tmin</th>\n",
       "    </tr>\n",
       "  </thead>\n",
       "  <tbody>\n",
       "    <tr>\n",
       "      <th>0</th>\n",
       "      <td>1.0</td>\n",
       "      <td>30-06-2013</td>\n",
       "      <td>28.7</td>\n",
       "      <td>21.4</td>\n",
       "      <td>58.255688</td>\n",
       "      <td>91.116364</td>\n",
       "      <td>28.074101</td>\n",
       "      <td>23.006936</td>\n",
       "      <td>6.818887</td>\n",
       "      <td>69.451805</td>\n",
       "      <td>...</td>\n",
       "      <td>0.0</td>\n",
       "      <td>0.0</td>\n",
       "      <td>0.0</td>\n",
       "      <td>37.6046</td>\n",
       "      <td>126.991</td>\n",
       "      <td>212.3350</td>\n",
       "      <td>2.7850</td>\n",
       "      <td>5992.895996</td>\n",
       "      <td>29.1</td>\n",
       "      <td>21.2</td>\n",
       "    </tr>\n",
       "    <tr>\n",
       "      <th>1</th>\n",
       "      <td>2.0</td>\n",
       "      <td>30-06-2013</td>\n",
       "      <td>31.9</td>\n",
       "      <td>21.6</td>\n",
       "      <td>52.263397</td>\n",
       "      <td>90.604721</td>\n",
       "      <td>29.850689</td>\n",
       "      <td>24.035009</td>\n",
       "      <td>5.691890</td>\n",
       "      <td>51.937448</td>\n",
       "      <td>...</td>\n",
       "      <td>0.0</td>\n",
       "      <td>0.0</td>\n",
       "      <td>0.0</td>\n",
       "      <td>37.6046</td>\n",
       "      <td>127.032</td>\n",
       "      <td>44.7624</td>\n",
       "      <td>0.5141</td>\n",
       "      <td>5869.312500</td>\n",
       "      <td>30.5</td>\n",
       "      <td>22.5</td>\n",
       "    </tr>\n",
       "    <tr>\n",
       "      <th>2</th>\n",
       "      <td>3.0</td>\n",
       "      <td>30-06-2013</td>\n",
       "      <td>31.6</td>\n",
       "      <td>23.3</td>\n",
       "      <td>48.690479</td>\n",
       "      <td>83.973587</td>\n",
       "      <td>30.091292</td>\n",
       "      <td>24.565633</td>\n",
       "      <td>6.138224</td>\n",
       "      <td>20.573050</td>\n",
       "      <td>...</td>\n",
       "      <td>0.0</td>\n",
       "      <td>0.0</td>\n",
       "      <td>0.0</td>\n",
       "      <td>37.5776</td>\n",
       "      <td>127.058</td>\n",
       "      <td>33.3068</td>\n",
       "      <td>0.2661</td>\n",
       "      <td>5863.555664</td>\n",
       "      <td>31.1</td>\n",
       "      <td>23.9</td>\n",
       "    </tr>\n",
       "    <tr>\n",
       "      <th>3</th>\n",
       "      <td>4.0</td>\n",
       "      <td>30-06-2013</td>\n",
       "      <td>32.0</td>\n",
       "      <td>23.4</td>\n",
       "      <td>58.239788</td>\n",
       "      <td>96.483688</td>\n",
       "      <td>29.704629</td>\n",
       "      <td>23.326177</td>\n",
       "      <td>5.650050</td>\n",
       "      <td>65.727144</td>\n",
       "      <td>...</td>\n",
       "      <td>0.0</td>\n",
       "      <td>0.0</td>\n",
       "      <td>0.0</td>\n",
       "      <td>37.6450</td>\n",
       "      <td>127.022</td>\n",
       "      <td>45.7160</td>\n",
       "      <td>2.5348</td>\n",
       "      <td>5856.964844</td>\n",
       "      <td>31.7</td>\n",
       "      <td>24.3</td>\n",
       "    </tr>\n",
       "    <tr>\n",
       "      <th>4</th>\n",
       "      <td>5.0</td>\n",
       "      <td>30-06-2013</td>\n",
       "      <td>31.4</td>\n",
       "      <td>21.9</td>\n",
       "      <td>56.174095</td>\n",
       "      <td>90.155128</td>\n",
       "      <td>29.113934</td>\n",
       "      <td>23.486480</td>\n",
       "      <td>5.735004</td>\n",
       "      <td>107.965535</td>\n",
       "      <td>...</td>\n",
       "      <td>0.0</td>\n",
       "      <td>0.0</td>\n",
       "      <td>0.0</td>\n",
       "      <td>37.5507</td>\n",
       "      <td>127.135</td>\n",
       "      <td>35.0380</td>\n",
       "      <td>0.5055</td>\n",
       "      <td>5859.552246</td>\n",
       "      <td>31.2</td>\n",
       "      <td>22.5</td>\n",
       "    </tr>\n",
       "  </tbody>\n",
       "</table>\n",
       "<p>5 rows × 25 columns</p>\n",
       "</div>"
      ],
      "text/plain": [
       "   station        Date  Present_Tmax  Present_Tmin  LDAPS_RHmin  LDAPS_RHmax  \\\n",
       "0      1.0  30-06-2013          28.7          21.4    58.255688    91.116364   \n",
       "1      2.0  30-06-2013          31.9          21.6    52.263397    90.604721   \n",
       "2      3.0  30-06-2013          31.6          23.3    48.690479    83.973587   \n",
       "3      4.0  30-06-2013          32.0          23.4    58.239788    96.483688   \n",
       "4      5.0  30-06-2013          31.4          21.9    56.174095    90.155128   \n",
       "\n",
       "   LDAPS_Tmax_lapse  LDAPS_Tmin_lapse  LDAPS_WS    LDAPS_LH  ...  LDAPS_PPT2  \\\n",
       "0         28.074101         23.006936  6.818887   69.451805  ...         0.0   \n",
       "1         29.850689         24.035009  5.691890   51.937448  ...         0.0   \n",
       "2         30.091292         24.565633  6.138224   20.573050  ...         0.0   \n",
       "3         29.704629         23.326177  5.650050   65.727144  ...         0.0   \n",
       "4         29.113934         23.486480  5.735004  107.965535  ...         0.0   \n",
       "\n",
       "   LDAPS_PPT3  LDAPS_PPT4      lat      lon       DEM   Slope  \\\n",
       "0         0.0         0.0  37.6046  126.991  212.3350  2.7850   \n",
       "1         0.0         0.0  37.6046  127.032   44.7624  0.5141   \n",
       "2         0.0         0.0  37.5776  127.058   33.3068  0.2661   \n",
       "3         0.0         0.0  37.6450  127.022   45.7160  2.5348   \n",
       "4         0.0         0.0  37.5507  127.135   35.0380  0.5055   \n",
       "\n",
       "   Solar radiation  Next_Tmax  Next_Tmin  \n",
       "0      5992.895996       29.1       21.2  \n",
       "1      5869.312500       30.5       22.5  \n",
       "2      5863.555664       31.1       23.9  \n",
       "3      5856.964844       31.7       24.3  \n",
       "4      5859.552246       31.2       22.5  \n",
       "\n",
       "[5 rows x 25 columns]"
      ]
     },
     "execution_count": 132,
     "metadata": {},
     "output_type": "execute_result"
    }
   ],
   "source": [
    "Temperature = pd.read_csv(\"https://raw.githubusercontent.com/dsrscientist/Dataset2/main/temperature.csv\")\n",
    "Temperature.head()"
   ]
  },
  {
   "cell_type": "code",
   "execution_count": 133,
   "id": "0c101a79",
   "metadata": {},
   "outputs": [
    {
     "name": "stdout",
     "output_type": "stream",
     "text": [
      "<class 'pandas.core.frame.DataFrame'>\n",
      "RangeIndex: 7752 entries, 0 to 7751\n",
      "Data columns (total 25 columns):\n",
      " #   Column            Non-Null Count  Dtype  \n",
      "---  ------            --------------  -----  \n",
      " 0   station           7750 non-null   float64\n",
      " 1   Date              7750 non-null   object \n",
      " 2   Present_Tmax      7682 non-null   float64\n",
      " 3   Present_Tmin      7682 non-null   float64\n",
      " 4   LDAPS_RHmin       7677 non-null   float64\n",
      " 5   LDAPS_RHmax       7677 non-null   float64\n",
      " 6   LDAPS_Tmax_lapse  7677 non-null   float64\n",
      " 7   LDAPS_Tmin_lapse  7677 non-null   float64\n",
      " 8   LDAPS_WS          7677 non-null   float64\n",
      " 9   LDAPS_LH          7677 non-null   float64\n",
      " 10  LDAPS_CC1         7677 non-null   float64\n",
      " 11  LDAPS_CC2         7677 non-null   float64\n",
      " 12  LDAPS_CC3         7677 non-null   float64\n",
      " 13  LDAPS_CC4         7677 non-null   float64\n",
      " 14  LDAPS_PPT1        7677 non-null   float64\n",
      " 15  LDAPS_PPT2        7677 non-null   float64\n",
      " 16  LDAPS_PPT3        7677 non-null   float64\n",
      " 17  LDAPS_PPT4        7677 non-null   float64\n",
      " 18  lat               7752 non-null   float64\n",
      " 19  lon               7752 non-null   float64\n",
      " 20  DEM               7752 non-null   float64\n",
      " 21  Slope             7752 non-null   float64\n",
      " 22  Solar radiation   7752 non-null   float64\n",
      " 23  Next_Tmax         7725 non-null   float64\n",
      " 24  Next_Tmin         7725 non-null   float64\n",
      "dtypes: float64(24), object(1)\n",
      "memory usage: 1.5+ MB\n"
     ]
    }
   ],
   "source": [
    "Temperature.info()"
   ]
  },
  {
   "cell_type": "code",
   "execution_count": 134,
   "id": "a83f75ba",
   "metadata": {},
   "outputs": [
    {
     "data": {
      "text/plain": [
       "station             float64\n",
       "Date                 object\n",
       "Present_Tmax        float64\n",
       "Present_Tmin        float64\n",
       "LDAPS_RHmin         float64\n",
       "LDAPS_RHmax         float64\n",
       "LDAPS_Tmax_lapse    float64\n",
       "LDAPS_Tmin_lapse    float64\n",
       "LDAPS_WS            float64\n",
       "LDAPS_LH            float64\n",
       "LDAPS_CC1           float64\n",
       "LDAPS_CC2           float64\n",
       "LDAPS_CC3           float64\n",
       "LDAPS_CC4           float64\n",
       "LDAPS_PPT1          float64\n",
       "LDAPS_PPT2          float64\n",
       "LDAPS_PPT3          float64\n",
       "LDAPS_PPT4          float64\n",
       "lat                 float64\n",
       "lon                 float64\n",
       "DEM                 float64\n",
       "Slope               float64\n",
       "Solar radiation     float64\n",
       "Next_Tmax           float64\n",
       "Next_Tmin           float64\n",
       "dtype: object"
      ]
     },
     "execution_count": 134,
     "metadata": {},
     "output_type": "execute_result"
    }
   ],
   "source": [
    "Temperature.dtypes"
   ]
  },
  {
   "cell_type": "code",
   "execution_count": 135,
   "id": "2e6f843b",
   "metadata": {},
   "outputs": [
    {
     "data": {
      "text/plain": [
       "157"
      ]
     },
     "execution_count": 135,
     "metadata": {},
     "output_type": "execute_result"
    }
   ],
   "source": [
    "Temperature.Next_Tmin.nunique()"
   ]
  },
  {
   "cell_type": "code",
   "execution_count": 136,
   "id": "21c2233b",
   "metadata": {},
   "outputs": [
    {
     "data": {
      "text/plain": [
       "station              2\n",
       "Date                 2\n",
       "Present_Tmax        70\n",
       "Present_Tmin        70\n",
       "LDAPS_RHmin         75\n",
       "LDAPS_RHmax         75\n",
       "LDAPS_Tmax_lapse    75\n",
       "LDAPS_Tmin_lapse    75\n",
       "LDAPS_WS            75\n",
       "LDAPS_LH            75\n",
       "LDAPS_CC1           75\n",
       "LDAPS_CC2           75\n",
       "LDAPS_CC3           75\n",
       "LDAPS_CC4           75\n",
       "LDAPS_PPT1          75\n",
       "LDAPS_PPT2          75\n",
       "LDAPS_PPT3          75\n",
       "LDAPS_PPT4          75\n",
       "lat                  0\n",
       "lon                  0\n",
       "DEM                  0\n",
       "Slope                0\n",
       "Solar radiation      0\n",
       "Next_Tmax           27\n",
       "Next_Tmin           27\n",
       "dtype: int64"
      ]
     },
     "execution_count": 136,
     "metadata": {},
     "output_type": "execute_result"
    }
   ],
   "source": [
    "Temperature.isna().sum()"
   ]
  },
  {
   "cell_type": "markdown",
   "id": "fd0a1a81",
   "metadata": {},
   "source": [
    "converting and filling the null values od the date and to datetime format and setting as index accordinly"
   ]
  },
  {
   "cell_type": "code",
   "execution_count": 137,
   "id": "faa1f6d2",
   "metadata": {},
   "outputs": [
    {
     "name": "stdout",
     "output_type": "stream",
     "text": [
      "0\n"
     ]
    },
    {
     "data": {
      "text/html": [
       "<div>\n",
       "<style scoped>\n",
       "    .dataframe tbody tr th:only-of-type {\n",
       "        vertical-align: middle;\n",
       "    }\n",
       "\n",
       "    .dataframe tbody tr th {\n",
       "        vertical-align: top;\n",
       "    }\n",
       "\n",
       "    .dataframe thead th {\n",
       "        text-align: right;\n",
       "    }\n",
       "</style>\n",
       "<table border=\"1\" class=\"dataframe\">\n",
       "  <thead>\n",
       "    <tr style=\"text-align: right;\">\n",
       "      <th></th>\n",
       "      <th>station</th>\n",
       "      <th>Present_Tmax</th>\n",
       "      <th>Present_Tmin</th>\n",
       "      <th>LDAPS_RHmin</th>\n",
       "      <th>LDAPS_RHmax</th>\n",
       "      <th>LDAPS_Tmax_lapse</th>\n",
       "      <th>LDAPS_Tmin_lapse</th>\n",
       "      <th>LDAPS_WS</th>\n",
       "      <th>LDAPS_LH</th>\n",
       "      <th>LDAPS_CC1</th>\n",
       "      <th>...</th>\n",
       "      <th>LDAPS_PPT2</th>\n",
       "      <th>LDAPS_PPT3</th>\n",
       "      <th>LDAPS_PPT4</th>\n",
       "      <th>lat</th>\n",
       "      <th>lon</th>\n",
       "      <th>DEM</th>\n",
       "      <th>Slope</th>\n",
       "      <th>Solar radiation</th>\n",
       "      <th>Next_Tmax</th>\n",
       "      <th>Next_Tmin</th>\n",
       "    </tr>\n",
       "    <tr>\n",
       "      <th>Date</th>\n",
       "      <th></th>\n",
       "      <th></th>\n",
       "      <th></th>\n",
       "      <th></th>\n",
       "      <th></th>\n",
       "      <th></th>\n",
       "      <th></th>\n",
       "      <th></th>\n",
       "      <th></th>\n",
       "      <th></th>\n",
       "      <th></th>\n",
       "      <th></th>\n",
       "      <th></th>\n",
       "      <th></th>\n",
       "      <th></th>\n",
       "      <th></th>\n",
       "      <th></th>\n",
       "      <th></th>\n",
       "      <th></th>\n",
       "      <th></th>\n",
       "      <th></th>\n",
       "    </tr>\n",
       "  </thead>\n",
       "  <tbody>\n",
       "    <tr>\n",
       "      <th>2013-06-30</th>\n",
       "      <td>1.0</td>\n",
       "      <td>28.7</td>\n",
       "      <td>21.4</td>\n",
       "      <td>58.255688</td>\n",
       "      <td>91.116364</td>\n",
       "      <td>28.074101</td>\n",
       "      <td>23.006936</td>\n",
       "      <td>6.818887</td>\n",
       "      <td>69.451805</td>\n",
       "      <td>0.233947</td>\n",
       "      <td>...</td>\n",
       "      <td>0.0</td>\n",
       "      <td>0.0</td>\n",
       "      <td>0.0</td>\n",
       "      <td>37.6046</td>\n",
       "      <td>126.991</td>\n",
       "      <td>212.3350</td>\n",
       "      <td>2.7850</td>\n",
       "      <td>5992.895996</td>\n",
       "      <td>29.1</td>\n",
       "      <td>21.2</td>\n",
       "    </tr>\n",
       "    <tr>\n",
       "      <th>2013-06-30</th>\n",
       "      <td>2.0</td>\n",
       "      <td>31.9</td>\n",
       "      <td>21.6</td>\n",
       "      <td>52.263397</td>\n",
       "      <td>90.604721</td>\n",
       "      <td>29.850689</td>\n",
       "      <td>24.035009</td>\n",
       "      <td>5.691890</td>\n",
       "      <td>51.937448</td>\n",
       "      <td>0.225508</td>\n",
       "      <td>...</td>\n",
       "      <td>0.0</td>\n",
       "      <td>0.0</td>\n",
       "      <td>0.0</td>\n",
       "      <td>37.6046</td>\n",
       "      <td>127.032</td>\n",
       "      <td>44.7624</td>\n",
       "      <td>0.5141</td>\n",
       "      <td>5869.312500</td>\n",
       "      <td>30.5</td>\n",
       "      <td>22.5</td>\n",
       "    </tr>\n",
       "    <tr>\n",
       "      <th>2013-06-30</th>\n",
       "      <td>3.0</td>\n",
       "      <td>31.6</td>\n",
       "      <td>23.3</td>\n",
       "      <td>48.690479</td>\n",
       "      <td>83.973587</td>\n",
       "      <td>30.091292</td>\n",
       "      <td>24.565633</td>\n",
       "      <td>6.138224</td>\n",
       "      <td>20.573050</td>\n",
       "      <td>0.209344</td>\n",
       "      <td>...</td>\n",
       "      <td>0.0</td>\n",
       "      <td>0.0</td>\n",
       "      <td>0.0</td>\n",
       "      <td>37.5776</td>\n",
       "      <td>127.058</td>\n",
       "      <td>33.3068</td>\n",
       "      <td>0.2661</td>\n",
       "      <td>5863.555664</td>\n",
       "      <td>31.1</td>\n",
       "      <td>23.9</td>\n",
       "    </tr>\n",
       "    <tr>\n",
       "      <th>2013-06-30</th>\n",
       "      <td>4.0</td>\n",
       "      <td>32.0</td>\n",
       "      <td>23.4</td>\n",
       "      <td>58.239788</td>\n",
       "      <td>96.483688</td>\n",
       "      <td>29.704629</td>\n",
       "      <td>23.326177</td>\n",
       "      <td>5.650050</td>\n",
       "      <td>65.727144</td>\n",
       "      <td>0.216372</td>\n",
       "      <td>...</td>\n",
       "      <td>0.0</td>\n",
       "      <td>0.0</td>\n",
       "      <td>0.0</td>\n",
       "      <td>37.6450</td>\n",
       "      <td>127.022</td>\n",
       "      <td>45.7160</td>\n",
       "      <td>2.5348</td>\n",
       "      <td>5856.964844</td>\n",
       "      <td>31.7</td>\n",
       "      <td>24.3</td>\n",
       "    </tr>\n",
       "    <tr>\n",
       "      <th>2013-06-30</th>\n",
       "      <td>5.0</td>\n",
       "      <td>31.4</td>\n",
       "      <td>21.9</td>\n",
       "      <td>56.174095</td>\n",
       "      <td>90.155128</td>\n",
       "      <td>29.113934</td>\n",
       "      <td>23.486480</td>\n",
       "      <td>5.735004</td>\n",
       "      <td>107.965535</td>\n",
       "      <td>0.151407</td>\n",
       "      <td>...</td>\n",
       "      <td>0.0</td>\n",
       "      <td>0.0</td>\n",
       "      <td>0.0</td>\n",
       "      <td>37.5507</td>\n",
       "      <td>127.135</td>\n",
       "      <td>35.0380</td>\n",
       "      <td>0.5055</td>\n",
       "      <td>5859.552246</td>\n",
       "      <td>31.2</td>\n",
       "      <td>22.5</td>\n",
       "    </tr>\n",
       "  </tbody>\n",
       "</table>\n",
       "<p>5 rows × 24 columns</p>\n",
       "</div>"
      ],
      "text/plain": [
       "            station  Present_Tmax  Present_Tmin  LDAPS_RHmin  LDAPS_RHmax  \\\n",
       "Date                                                                        \n",
       "2013-06-30      1.0          28.7          21.4    58.255688    91.116364   \n",
       "2013-06-30      2.0          31.9          21.6    52.263397    90.604721   \n",
       "2013-06-30      3.0          31.6          23.3    48.690479    83.973587   \n",
       "2013-06-30      4.0          32.0          23.4    58.239788    96.483688   \n",
       "2013-06-30      5.0          31.4          21.9    56.174095    90.155128   \n",
       "\n",
       "            LDAPS_Tmax_lapse  LDAPS_Tmin_lapse  LDAPS_WS    LDAPS_LH  \\\n",
       "Date                                                                   \n",
       "2013-06-30         28.074101         23.006936  6.818887   69.451805   \n",
       "2013-06-30         29.850689         24.035009  5.691890   51.937448   \n",
       "2013-06-30         30.091292         24.565633  6.138224   20.573050   \n",
       "2013-06-30         29.704629         23.326177  5.650050   65.727144   \n",
       "2013-06-30         29.113934         23.486480  5.735004  107.965535   \n",
       "\n",
       "            LDAPS_CC1  ...  LDAPS_PPT2  LDAPS_PPT3  LDAPS_PPT4      lat  \\\n",
       "Date                   ...                                                \n",
       "2013-06-30   0.233947  ...         0.0         0.0         0.0  37.6046   \n",
       "2013-06-30   0.225508  ...         0.0         0.0         0.0  37.6046   \n",
       "2013-06-30   0.209344  ...         0.0         0.0         0.0  37.5776   \n",
       "2013-06-30   0.216372  ...         0.0         0.0         0.0  37.6450   \n",
       "2013-06-30   0.151407  ...         0.0         0.0         0.0  37.5507   \n",
       "\n",
       "                lon       DEM   Slope  Solar radiation  Next_Tmax  Next_Tmin  \n",
       "Date                                                                          \n",
       "2013-06-30  126.991  212.3350  2.7850      5992.895996       29.1       21.2  \n",
       "2013-06-30  127.032   44.7624  0.5141      5869.312500       30.5       22.5  \n",
       "2013-06-30  127.058   33.3068  0.2661      5863.555664       31.1       23.9  \n",
       "2013-06-30  127.022   45.7160  2.5348      5856.964844       31.7       24.3  \n",
       "2013-06-30  127.135   35.0380  0.5055      5859.552246       31.2       22.5  \n",
       "\n",
       "[5 rows x 24 columns]"
      ]
     },
     "execution_count": 137,
     "metadata": {},
     "output_type": "execute_result"
    }
   ],
   "source": [
    "Temperature['Date']=Temperature['Date'].fillna(Temperature['Date'].mode()[0])\n",
    "print(Temperature['Date'].isnull().sum())\n",
    "Temperature['Date'] = pd.to_datetime(Temperature['Date'])\n",
    "Temperature.set_index('Date', inplace = True)\n",
    "Temperature.head()"
   ]
  },
  {
   "cell_type": "code",
   "execution_count": 138,
   "id": "f5b091ab",
   "metadata": {},
   "outputs": [
    {
     "data": {
      "text/html": [
       "<div>\n",
       "<style scoped>\n",
       "    .dataframe tbody tr th:only-of-type {\n",
       "        vertical-align: middle;\n",
       "    }\n",
       "\n",
       "    .dataframe tbody tr th {\n",
       "        vertical-align: top;\n",
       "    }\n",
       "\n",
       "    .dataframe thead th {\n",
       "        text-align: right;\n",
       "    }\n",
       "</style>\n",
       "<table border=\"1\" class=\"dataframe\">\n",
       "  <thead>\n",
       "    <tr style=\"text-align: right;\">\n",
       "      <th></th>\n",
       "      <th>no of unique values</th>\n",
       "    </tr>\n",
       "  </thead>\n",
       "  <tbody>\n",
       "    <tr>\n",
       "      <th>station</th>\n",
       "      <td>25</td>\n",
       "    </tr>\n",
       "    <tr>\n",
       "      <th>Present_Tmax</th>\n",
       "      <td>167</td>\n",
       "    </tr>\n",
       "    <tr>\n",
       "      <th>Present_Tmin</th>\n",
       "      <td>155</td>\n",
       "    </tr>\n",
       "    <tr>\n",
       "      <th>LDAPS_RHmin</th>\n",
       "      <td>7672</td>\n",
       "    </tr>\n",
       "    <tr>\n",
       "      <th>LDAPS_RHmax</th>\n",
       "      <td>7664</td>\n",
       "    </tr>\n",
       "    <tr>\n",
       "      <th>LDAPS_Tmax_lapse</th>\n",
       "      <td>7675</td>\n",
       "    </tr>\n",
       "    <tr>\n",
       "      <th>LDAPS_Tmin_lapse</th>\n",
       "      <td>7675</td>\n",
       "    </tr>\n",
       "    <tr>\n",
       "      <th>LDAPS_WS</th>\n",
       "      <td>7675</td>\n",
       "    </tr>\n",
       "    <tr>\n",
       "      <th>LDAPS_LH</th>\n",
       "      <td>7675</td>\n",
       "    </tr>\n",
       "    <tr>\n",
       "      <th>LDAPS_CC1</th>\n",
       "      <td>7569</td>\n",
       "    </tr>\n",
       "    <tr>\n",
       "      <th>LDAPS_CC2</th>\n",
       "      <td>7582</td>\n",
       "    </tr>\n",
       "    <tr>\n",
       "      <th>LDAPS_CC3</th>\n",
       "      <td>7599</td>\n",
       "    </tr>\n",
       "    <tr>\n",
       "      <th>LDAPS_CC4</th>\n",
       "      <td>7524</td>\n",
       "    </tr>\n",
       "    <tr>\n",
       "      <th>LDAPS_PPT1</th>\n",
       "      <td>2812</td>\n",
       "    </tr>\n",
       "    <tr>\n",
       "      <th>LDAPS_PPT2</th>\n",
       "      <td>2510</td>\n",
       "    </tr>\n",
       "    <tr>\n",
       "      <th>LDAPS_PPT3</th>\n",
       "      <td>2356</td>\n",
       "    </tr>\n",
       "    <tr>\n",
       "      <th>LDAPS_PPT4</th>\n",
       "      <td>1918</td>\n",
       "    </tr>\n",
       "    <tr>\n",
       "      <th>lat</th>\n",
       "      <td>12</td>\n",
       "    </tr>\n",
       "    <tr>\n",
       "      <th>lon</th>\n",
       "      <td>25</td>\n",
       "    </tr>\n",
       "    <tr>\n",
       "      <th>DEM</th>\n",
       "      <td>25</td>\n",
       "    </tr>\n",
       "    <tr>\n",
       "      <th>Slope</th>\n",
       "      <td>27</td>\n",
       "    </tr>\n",
       "    <tr>\n",
       "      <th>Solar radiation</th>\n",
       "      <td>1575</td>\n",
       "    </tr>\n",
       "    <tr>\n",
       "      <th>Next_Tmax</th>\n",
       "      <td>183</td>\n",
       "    </tr>\n",
       "    <tr>\n",
       "      <th>Next_Tmin</th>\n",
       "      <td>157</td>\n",
       "    </tr>\n",
       "  </tbody>\n",
       "</table>\n",
       "</div>"
      ],
      "text/plain": [
       "                  no of unique values\n",
       "station                            25\n",
       "Present_Tmax                      167\n",
       "Present_Tmin                      155\n",
       "LDAPS_RHmin                      7672\n",
       "LDAPS_RHmax                      7664\n",
       "LDAPS_Tmax_lapse                 7675\n",
       "LDAPS_Tmin_lapse                 7675\n",
       "LDAPS_WS                         7675\n",
       "LDAPS_LH                         7675\n",
       "LDAPS_CC1                        7569\n",
       "LDAPS_CC2                        7582\n",
       "LDAPS_CC3                        7599\n",
       "LDAPS_CC4                        7524\n",
       "LDAPS_PPT1                       2812\n",
       "LDAPS_PPT2                       2510\n",
       "LDAPS_PPT3                       2356\n",
       "LDAPS_PPT4                       1918\n",
       "lat                                12\n",
       "lon                                25\n",
       "DEM                                25\n",
       "Slope                              27\n",
       "Solar radiation                  1575\n",
       "Next_Tmax                         183\n",
       "Next_Tmin                         157"
      ]
     },
     "execution_count": 138,
     "metadata": {},
     "output_type": "execute_result"
    }
   ],
   "source": [
    "Temperature.nunique().to_frame('no of unique values')"
   ]
  },
  {
   "cell_type": "code",
   "execution_count": 139,
   "id": "f42669e7",
   "metadata": {},
   "outputs": [
    {
     "data": {
      "text/plain": [
       "Date\n",
       "2013-06-30    37.6046\n",
       "2013-06-30    37.6046\n",
       "2013-06-30    37.5776\n",
       "2013-06-30    37.6450\n",
       "2013-06-30    37.5507\n",
       "Name: lat, dtype: float64"
      ]
     },
     "execution_count": 139,
     "metadata": {},
     "output_type": "execute_result"
    }
   ],
   "source": [
    "Temperature['lat'].head()"
   ]
  },
  {
   "cell_type": "markdown",
   "id": "0a48f8b9",
   "metadata": {},
   "source": [
    "now filling all the null values in the entire column. using mean method since they are all continious data type"
   ]
  },
  {
   "cell_type": "code",
   "execution_count": 140,
   "id": "1743268b",
   "metadata": {},
   "outputs": [],
   "source": [
    "for i in Temperature:\n",
    "    if Temperature[i].dtypes!='object':\n",
    "        Temperature[i]=Temperature[i].fillna(Temperature[i].mean())"
   ]
  },
  {
   "cell_type": "code",
   "execution_count": 141,
   "id": "dbc4c220",
   "metadata": {},
   "outputs": [
    {
     "data": {
      "text/plain": [
       "station             0\n",
       "Present_Tmax        0\n",
       "Present_Tmin        0\n",
       "LDAPS_RHmin         0\n",
       "LDAPS_RHmax         0\n",
       "LDAPS_Tmax_lapse    0\n",
       "LDAPS_Tmin_lapse    0\n",
       "LDAPS_WS            0\n",
       "LDAPS_LH            0\n",
       "LDAPS_CC1           0\n",
       "LDAPS_CC2           0\n",
       "LDAPS_CC3           0\n",
       "LDAPS_CC4           0\n",
       "LDAPS_PPT1          0\n",
       "LDAPS_PPT2          0\n",
       "LDAPS_PPT3          0\n",
       "LDAPS_PPT4          0\n",
       "lat                 0\n",
       "lon                 0\n",
       "DEM                 0\n",
       "Slope               0\n",
       "Solar radiation     0\n",
       "Next_Tmax           0\n",
       "Next_Tmin           0\n",
       "dtype: int64"
      ]
     },
     "execution_count": 141,
     "metadata": {},
     "output_type": "execute_result"
    }
   ],
   "source": [
    "Temperature.isnull().sum()"
   ]
  },
  {
   "cell_type": "code",
   "execution_count": 142,
   "id": "e90499e4",
   "metadata": {},
   "outputs": [
    {
     "data": {
      "text/plain": [
       "station             0.128293\n",
       "Present_Tmax        0.622741\n",
       "Present_Tmin        0.796670\n",
       "LDAPS_RHmin         0.095019\n",
       "LDAPS_RHmax        -0.071997\n",
       "LDAPS_Tmax_lapse    0.586868\n",
       "LDAPS_Tmin_lapse    0.880176\n",
       "LDAPS_WS           -0.096576\n",
       "LDAPS_LH           -0.055440\n",
       "LDAPS_CC1          -0.011028\n",
       "LDAPS_CC2           0.031250\n",
       "LDAPS_CC3          -0.054726\n",
       "LDAPS_CC4          -0.085093\n",
       "LDAPS_PPT1          0.021323\n",
       "LDAPS_PPT2         -0.008058\n",
       "LDAPS_PPT3         -0.062622\n",
       "LDAPS_PPT4         -0.103682\n",
       "lat                -0.083533\n",
       "lon                -0.046603\n",
       "DEM                -0.246906\n",
       "Slope              -0.146882\n",
       "Solar radiation     0.120212\n",
       "Next_Tmax           0.621427\n",
       "dtype: float64"
      ]
     },
     "execution_count": 142,
     "metadata": {},
     "output_type": "execute_result"
    }
   ],
   "source": [
    "Temperature.drop('Next_Tmin', axis=1).corrwith(Temperature.Next_Tmin)"
   ]
  },
  {
   "cell_type": "code",
   "execution_count": 143,
   "id": "78648a84",
   "metadata": {},
   "outputs": [
    {
     "data": {
      "image/png": "[encoded data removed]",
      "text/plain": [
       "<Figure size 1000x700 with 1 Axes>"
      ]
     },
     "metadata": {},
     "output_type": "display_data"
    }
   ],
   "source": [
    "Temperature.drop('Next_Tmin', axis=1).corrwith(Temperature.Next_Tmin).plot(kind='bar',grid =True, figsize = (10,7),\n",
    "                                                                        title = 'correlation with Temperature.drop Next_Tmin')\n",
    "\n",
    "\n",
    "plt.show()\n"
   ]
  },
  {
   "cell_type": "code",
   "execution_count": 144,
   "id": "8940b79b",
   "metadata": {},
   "outputs": [],
   "source": [
    "from sklearn.feature_selection import SelectKBest, f_classif"
   ]
  },
  {
   "cell_type": "code",
   "execution_count": 145,
   "id": "04e5d064",
   "metadata": {},
   "outputs": [],
   "source": [
    "Features = Temperature.drop(['Next_Tmin'],axis=1)\n",
    "Label = Temperature['Next_Tmin']"
   ]
  },
  {
   "cell_type": "code",
   "execution_count": 147,
   "id": "7cc32c5e",
   "metadata": {},
   "outputs": [
    {
     "name": "stdout",
     "output_type": "stream",
     "text": [
      "       Features_name       Score\n",
      "6   LDAPS_Tmin_lapse  176.769009\n",
      "2       Present_Tmin   88.364060\n",
      "1       Present_Tmax   33.425321\n",
      "22         Next_Tmax   33.345217\n",
      "5   LDAPS_Tmax_lapse   27.540384\n",
      "21   Solar radiation    5.703104\n",
      "19               DEM    4.430743\n",
      "3        LDAPS_RHmin    2.861991\n",
      "16        LDAPS_PPT4    2.660640\n",
      "4        LDAPS_RHmax    2.586889\n",
      "12         LDAPS_CC4    2.559094\n",
      "15        LDAPS_PPT3    2.490605\n",
      "7           LDAPS_WS    2.459744\n",
      "11         LDAPS_CC3    2.338759\n",
      "0            station    2.132421\n",
      "20             Slope    1.982900\n",
      "13        LDAPS_PPT1    1.880390\n",
      "10         LDAPS_CC2    1.845699\n",
      "9          LDAPS_CC1    1.651187\n",
      "8           LDAPS_LH    1.645239\n"
     ]
    }
   ],
   "source": [
    "best_features = SelectKBest(score_func = f_classif, k = 20)\n",
    "fit = best_features.fit(Features,Label)\n",
    "Temperature_scores = pd.DataFrame(fit.scores_)\n",
    "Temperature_columns = pd.DataFrame(Features.columns)\n",
    "features_scores = pd.concat([Temperature_columns, Temperature_scores], axis = 1)\n",
    "features_scores.columns = ['Features_name', 'Score']\n",
    "print(features_scores.nlargest(20, 'Score'))"
   ]
  },
  {
   "cell_type": "markdown",
   "id": "f6379618",
   "metadata": {},
   "source": [
    "from above my k best = 7, because there is no much difference in the values after the seventh feature."
   ]
  },
  {
   "cell_type": "code",
   "execution_count": 151,
   "id": "1acad67b",
   "metadata": {},
   "outputs": [
    {
     "data": {
      "text/html": [
       "<div>\n",
       "<style scoped>\n",
       "    .dataframe tbody tr th:only-of-type {\n",
       "        vertical-align: middle;\n",
       "    }\n",
       "\n",
       "    .dataframe tbody tr th {\n",
       "        vertical-align: top;\n",
       "    }\n",
       "\n",
       "    .dataframe thead th {\n",
       "        text-align: right;\n",
       "    }\n",
       "</style>\n",
       "<table border=\"1\" class=\"dataframe\">\n",
       "  <thead>\n",
       "    <tr style=\"text-align: right;\">\n",
       "      <th></th>\n",
       "      <th>LDAPS_Tmin_lapse</th>\n",
       "      <th>Present_Tmin</th>\n",
       "      <th>Present_Tmax</th>\n",
       "      <th>Next_Tmax</th>\n",
       "      <th>LDAPS_Tmax_lapse</th>\n",
       "      <th>Solar radiation</th>\n",
       "      <th>DEM</th>\n",
       "    </tr>\n",
       "    <tr>\n",
       "      <th>Date</th>\n",
       "      <th></th>\n",
       "      <th></th>\n",
       "      <th></th>\n",
       "      <th></th>\n",
       "      <th></th>\n",
       "      <th></th>\n",
       "      <th></th>\n",
       "    </tr>\n",
       "  </thead>\n",
       "  <tbody>\n",
       "    <tr>\n",
       "      <th>2013-06-30</th>\n",
       "      <td>23.006936</td>\n",
       "      <td>21.4</td>\n",
       "      <td>28.7</td>\n",
       "      <td>29.1</td>\n",
       "      <td>28.074101</td>\n",
       "      <td>5992.895996</td>\n",
       "      <td>212.3350</td>\n",
       "    </tr>\n",
       "    <tr>\n",
       "      <th>2013-06-30</th>\n",
       "      <td>24.035009</td>\n",
       "      <td>21.6</td>\n",
       "      <td>31.9</td>\n",
       "      <td>30.5</td>\n",
       "      <td>29.850689</td>\n",
       "      <td>5869.312500</td>\n",
       "      <td>44.7624</td>\n",
       "    </tr>\n",
       "    <tr>\n",
       "      <th>2013-06-30</th>\n",
       "      <td>24.565633</td>\n",
       "      <td>23.3</td>\n",
       "      <td>31.6</td>\n",
       "      <td>31.1</td>\n",
       "      <td>30.091292</td>\n",
       "      <td>5863.555664</td>\n",
       "      <td>33.3068</td>\n",
       "    </tr>\n",
       "    <tr>\n",
       "      <th>2013-06-30</th>\n",
       "      <td>23.326177</td>\n",
       "      <td>23.4</td>\n",
       "      <td>32.0</td>\n",
       "      <td>31.7</td>\n",
       "      <td>29.704629</td>\n",
       "      <td>5856.964844</td>\n",
       "      <td>45.7160</td>\n",
       "    </tr>\n",
       "    <tr>\n",
       "      <th>2013-06-30</th>\n",
       "      <td>23.486480</td>\n",
       "      <td>21.9</td>\n",
       "      <td>31.4</td>\n",
       "      <td>31.2</td>\n",
       "      <td>29.113934</td>\n",
       "      <td>5859.552246</td>\n",
       "      <td>35.0380</td>\n",
       "    </tr>\n",
       "  </tbody>\n",
       "</table>\n",
       "</div>"
      ],
      "text/plain": [
       "            LDAPS_Tmin_lapse  Present_Tmin  Present_Tmax  Next_Tmax  \\\n",
       "Date                                                                  \n",
       "2013-06-30         23.006936          21.4          28.7       29.1   \n",
       "2013-06-30         24.035009          21.6          31.9       30.5   \n",
       "2013-06-30         24.565633          23.3          31.6       31.1   \n",
       "2013-06-30         23.326177          23.4          32.0       31.7   \n",
       "2013-06-30         23.486480          21.9          31.4       31.2   \n",
       "\n",
       "            LDAPS_Tmax_lapse  Solar radiation       DEM  \n",
       "Date                                                     \n",
       "2013-06-30         28.074101      5992.895996  212.3350  \n",
       "2013-06-30         29.850689      5869.312500   44.7624  \n",
       "2013-06-30         30.091292      5863.555664   33.3068  \n",
       "2013-06-30         29.704629      5856.964844   45.7160  \n",
       "2013-06-30         29.113934      5859.552246   35.0380  "
      ]
     },
     "execution_count": 151,
     "metadata": {},
     "output_type": "execute_result"
    }
   ],
   "source": [
    "Temperature_new= Temperature[['LDAPS_Tmin_lapse','Present_Tmin','Present_Tmax','Next_Tmax','LDAPS_Tmax_lapse','Solar radiation','DEM']]\n",
    "Temperature_new.head()"
   ]
  },
  {
   "cell_type": "code",
   "execution_count": 152,
   "id": "95d46cdf",
   "metadata": {},
   "outputs": [
    {
     "data": {
      "text/html": [
       "<div>\n",
       "<style scoped>\n",
       "    .dataframe tbody tr th:only-of-type {\n",
       "        vertical-align: middle;\n",
       "    }\n",
       "\n",
       "    .dataframe tbody tr th {\n",
       "        vertical-align: top;\n",
       "    }\n",
       "\n",
       "    .dataframe thead th {\n",
       "        text-align: right;\n",
       "    }\n",
       "</style>\n",
       "<table border=\"1\" class=\"dataframe\">\n",
       "  <thead>\n",
       "    <tr style=\"text-align: right;\">\n",
       "      <th></th>\n",
       "      <th>LDAPS_Tmin_lapse</th>\n",
       "      <th>Present_Tmin</th>\n",
       "      <th>Present_Tmax</th>\n",
       "      <th>Next_Tmax</th>\n",
       "      <th>LDAPS_Tmax_lapse</th>\n",
       "      <th>Solar radiation</th>\n",
       "      <th>DEM</th>\n",
       "    </tr>\n",
       "  </thead>\n",
       "  <tbody>\n",
       "    <tr>\n",
       "      <th>count</th>\n",
       "      <td>7752.000000</td>\n",
       "      <td>7752.000000</td>\n",
       "      <td>7752.000000</td>\n",
       "      <td>7752.000000</td>\n",
       "      <td>7752.000000</td>\n",
       "      <td>7752.000000</td>\n",
       "      <td>7752.000000</td>\n",
       "    </tr>\n",
       "    <tr>\n",
       "      <th>mean</th>\n",
       "      <td>23.512589</td>\n",
       "      <td>23.225059</td>\n",
       "      <td>29.768211</td>\n",
       "      <td>30.274887</td>\n",
       "      <td>29.613447</td>\n",
       "      <td>5341.502803</td>\n",
       "      <td>61.867972</td>\n",
       "    </tr>\n",
       "    <tr>\n",
       "      <th>std</th>\n",
       "      <td>2.333973</td>\n",
       "      <td>2.403036</td>\n",
       "      <td>2.956557</td>\n",
       "      <td>3.122557</td>\n",
       "      <td>2.932898</td>\n",
       "      <td>429.158867</td>\n",
       "      <td>54.279780</td>\n",
       "    </tr>\n",
       "    <tr>\n",
       "      <th>min</th>\n",
       "      <td>14.272646</td>\n",
       "      <td>11.300000</td>\n",
       "      <td>20.000000</td>\n",
       "      <td>17.400000</td>\n",
       "      <td>17.624954</td>\n",
       "      <td>4329.520508</td>\n",
       "      <td>12.370000</td>\n",
       "    </tr>\n",
       "    <tr>\n",
       "      <th>25%</th>\n",
       "      <td>22.114651</td>\n",
       "      <td>21.700000</td>\n",
       "      <td>27.800000</td>\n",
       "      <td>28.200000</td>\n",
       "      <td>27.693091</td>\n",
       "      <td>4999.018555</td>\n",
       "      <td>28.700000</td>\n",
       "    </tr>\n",
       "    <tr>\n",
       "      <th>50%</th>\n",
       "      <td>23.735942</td>\n",
       "      <td>23.400000</td>\n",
       "      <td>29.900000</td>\n",
       "      <td>30.500000</td>\n",
       "      <td>29.662273</td>\n",
       "      <td>5436.345215</td>\n",
       "      <td>45.716000</td>\n",
       "    </tr>\n",
       "    <tr>\n",
       "      <th>75%</th>\n",
       "      <td>25.134000</td>\n",
       "      <td>24.900000</td>\n",
       "      <td>32.000000</td>\n",
       "      <td>32.600000</td>\n",
       "      <td>31.683819</td>\n",
       "      <td>5728.316406</td>\n",
       "      <td>59.832400</td>\n",
       "    </tr>\n",
       "    <tr>\n",
       "      <th>max</th>\n",
       "      <td>29.619342</td>\n",
       "      <td>29.900000</td>\n",
       "      <td>37.600000</td>\n",
       "      <td>38.900000</td>\n",
       "      <td>38.542255</td>\n",
       "      <td>5992.895996</td>\n",
       "      <td>212.335000</td>\n",
       "    </tr>\n",
       "  </tbody>\n",
       "</table>\n",
       "</div>"
      ],
      "text/plain": [
       "       LDAPS_Tmin_lapse  Present_Tmin  Present_Tmax    Next_Tmax  \\\n",
       "count       7752.000000   7752.000000   7752.000000  7752.000000   \n",
       "mean          23.512589     23.225059     29.768211    30.274887   \n",
       "std            2.333973      2.403036      2.956557     3.122557   \n",
       "min           14.272646     11.300000     20.000000    17.400000   \n",
       "25%           22.114651     21.700000     27.800000    28.200000   \n",
       "50%           23.735942     23.400000     29.900000    30.500000   \n",
       "75%           25.134000     24.900000     32.000000    32.600000   \n",
       "max           29.619342     29.900000     37.600000    38.900000   \n",
       "\n",
       "       LDAPS_Tmax_lapse  Solar radiation          DEM  \n",
       "count       7752.000000      7752.000000  7752.000000  \n",
       "mean          29.613447      5341.502803    61.867972  \n",
       "std            2.932898       429.158867    54.279780  \n",
       "min           17.624954      4329.520508    12.370000  \n",
       "25%           27.693091      4999.018555    28.700000  \n",
       "50%           29.662273      5436.345215    45.716000  \n",
       "75%           31.683819      5728.316406    59.832400  \n",
       "max           38.542255      5992.895996   212.335000  "
      ]
     },
     "execution_count": 152,
     "metadata": {},
     "output_type": "execute_result"
    }
   ],
   "source": [
    "Temperature_new.describe()"
   ]
  },
  {
   "cell_type": "code",
   "execution_count": 153,
   "id": "8ec3b8a2",
   "metadata": {},
   "outputs": [
    {
     "data": {
      "text/html": [
       "<div>\n",
       "<style scoped>\n",
       "    .dataframe tbody tr th:only-of-type {\n",
       "        vertical-align: middle;\n",
       "    }\n",
       "\n",
       "    .dataframe tbody tr th {\n",
       "        vertical-align: top;\n",
       "    }\n",
       "\n",
       "    .dataframe thead th {\n",
       "        text-align: right;\n",
       "    }\n",
       "</style>\n",
       "<table border=\"1\" class=\"dataframe\">\n",
       "  <thead>\n",
       "    <tr style=\"text-align: right;\">\n",
       "      <th></th>\n",
       "      <th>0</th>\n",
       "      <th>1</th>\n",
       "      <th>2</th>\n",
       "      <th>3</th>\n",
       "      <th>4</th>\n",
       "      <th>5</th>\n",
       "      <th>6</th>\n",
       "    </tr>\n",
       "  </thead>\n",
       "  <tbody>\n",
       "    <tr>\n",
       "      <th>0</th>\n",
       "      <td>-0.216663</td>\n",
       "      <td>-0.759529</td>\n",
       "      <td>-0.361326</td>\n",
       "      <td>-0.376282</td>\n",
       "      <td>-0.524889</td>\n",
       "      <td>1.517935</td>\n",
       "      <td>2.772243</td>\n",
       "    </tr>\n",
       "    <tr>\n",
       "      <th>1</th>\n",
       "      <td>0.223848</td>\n",
       "      <td>-0.676296</td>\n",
       "      <td>0.721084</td>\n",
       "      <td>0.072097</td>\n",
       "      <td>0.080895</td>\n",
       "      <td>1.229950</td>\n",
       "      <td>-0.315157</td>\n",
       "    </tr>\n",
       "    <tr>\n",
       "      <th>2</th>\n",
       "      <td>0.451210</td>\n",
       "      <td>0.031188</td>\n",
       "      <td>0.619608</td>\n",
       "      <td>0.264260</td>\n",
       "      <td>0.162936</td>\n",
       "      <td>1.216534</td>\n",
       "      <td>-0.526218</td>\n",
       "    </tr>\n",
       "    <tr>\n",
       "      <th>3</th>\n",
       "      <td>-0.079874</td>\n",
       "      <td>0.072805</td>\n",
       "      <td>0.754909</td>\n",
       "      <td>0.456422</td>\n",
       "      <td>0.031092</td>\n",
       "      <td>1.201176</td>\n",
       "      <td>-0.297588</td>\n",
       "    </tr>\n",
       "    <tr>\n",
       "      <th>4</th>\n",
       "      <td>-0.011187</td>\n",
       "      <td>-0.551446</td>\n",
       "      <td>0.551957</td>\n",
       "      <td>0.296287</td>\n",
       "      <td>-0.170325</td>\n",
       "      <td>1.207205</td>\n",
       "      <td>-0.494322</td>\n",
       "    </tr>\n",
       "    <tr>\n",
       "      <th>5</th>\n",
       "      <td>0.132840</td>\n",
       "      <td>0.114422</td>\n",
       "      <td>0.721084</td>\n",
       "      <td>0.392368</td>\n",
       "      <td>-0.134382</td>\n",
       "      <td>1.240362</td>\n",
       "      <td>-0.133199</td>\n",
       "    </tr>\n",
       "    <tr>\n",
       "      <th>6</th>\n",
       "      <td>0.311026</td>\n",
       "      <td>0.488972</td>\n",
       "      <td>0.551957</td>\n",
       "      <td>0.200206</td>\n",
       "      <td>-0.361982</td>\n",
       "      <td>1.183159</td>\n",
       "      <td>-0.911963</td>\n",
       "    </tr>\n",
       "    <tr>\n",
       "      <th>7</th>\n",
       "      <td>0.131315</td>\n",
       "      <td>0.156038</td>\n",
       "      <td>0.788735</td>\n",
       "      <td>0.264260</td>\n",
       "      <td>-0.259646</td>\n",
       "      <td>1.217552</td>\n",
       "      <td>-0.172266</td>\n",
       "    </tr>\n",
       "  </tbody>\n",
       "</table>\n",
       "</div>"
      ],
      "text/plain": [
       "          0         1         2         3         4         5         6\n",
       "0 -0.216663 -0.759529 -0.361326 -0.376282 -0.524889  1.517935  2.772243\n",
       "1  0.223848 -0.676296  0.721084  0.072097  0.080895  1.229950 -0.315157\n",
       "2  0.451210  0.031188  0.619608  0.264260  0.162936  1.216534 -0.526218\n",
       "3 -0.079874  0.072805  0.754909  0.456422  0.031092  1.201176 -0.297588\n",
       "4 -0.011187 -0.551446  0.551957  0.296287 -0.170325  1.207205 -0.494322\n",
       "5  0.132840  0.114422  0.721084  0.392368 -0.134382  1.240362 -0.133199\n",
       "6  0.311026  0.488972  0.551957  0.200206 -0.361982  1.183159 -0.911963\n",
       "7  0.131315  0.156038  0.788735  0.264260 -0.259646  1.217552 -0.172266"
      ]
     },
     "execution_count": 153,
     "metadata": {},
     "output_type": "execute_result"
    }
   ],
   "source": [
    "scaler = StandardScaler()\n",
    "Temperature_scaler = pd.DataFrame(scaler.fit_transform(Temperature_new))\n",
    "Temperature_scaler.head(8)"
   ]
  },
  {
   "cell_type": "code",
   "execution_count": 154,
   "id": "e8a1aa6a",
   "metadata": {},
   "outputs": [],
   "source": [
    "vif = pd.DataFrame()\n",
    "vif['vif values']= [variance_inflation_factor(Temperature_scaler.values, i) for i in range(len(Temperature_scaler.columns))]\n",
    "vif['features'] = Temperature_scaler.columns"
   ]
  },
  {
   "cell_type": "code",
   "execution_count": 155,
   "id": "dc6b6d3e",
   "metadata": {},
   "outputs": [
    {
     "data": {
      "text/html": [
       "<div>\n",
       "<style scoped>\n",
       "    .dataframe tbody tr th:only-of-type {\n",
       "        vertical-align: middle;\n",
       "    }\n",
       "\n",
       "    .dataframe tbody tr th {\n",
       "        vertical-align: top;\n",
       "    }\n",
       "\n",
       "    .dataframe thead th {\n",
       "        text-align: right;\n",
       "    }\n",
       "</style>\n",
       "<table border=\"1\" class=\"dataframe\">\n",
       "  <thead>\n",
       "    <tr style=\"text-align: right;\">\n",
       "      <th></th>\n",
       "      <th>vif values</th>\n",
       "      <th>features</th>\n",
       "    </tr>\n",
       "  </thead>\n",
       "  <tbody>\n",
       "    <tr>\n",
       "      <th>0</th>\n",
       "      <td>3.503850</td>\n",
       "      <td>0</td>\n",
       "    </tr>\n",
       "    <tr>\n",
       "      <th>1</th>\n",
       "      <td>2.752264</td>\n",
       "      <td>1</td>\n",
       "    </tr>\n",
       "    <tr>\n",
       "      <th>2</th>\n",
       "      <td>2.123858</td>\n",
       "      <td>2</td>\n",
       "    </tr>\n",
       "    <tr>\n",
       "      <th>3</th>\n",
       "      <td>3.497209</td>\n",
       "      <td>3</td>\n",
       "    </tr>\n",
       "    <tr>\n",
       "      <th>4</th>\n",
       "      <td>3.770696</td>\n",
       "      <td>4</td>\n",
       "    </tr>\n",
       "    <tr>\n",
       "      <th>5</th>\n",
       "      <td>1.066260</td>\n",
       "      <td>5</td>\n",
       "    </tr>\n",
       "    <tr>\n",
       "      <th>6</th>\n",
       "      <td>1.079153</td>\n",
       "      <td>6</td>\n",
       "    </tr>\n",
       "  </tbody>\n",
       "</table>\n",
       "</div>"
      ],
      "text/plain": [
       "   vif values  features\n",
       "0    3.503850         0\n",
       "1    2.752264         1\n",
       "2    2.123858         2\n",
       "3    3.497209         3\n",
       "4    3.770696         4\n",
       "5    1.066260         5\n",
       "6    1.079153         6"
      ]
     },
     "execution_count": 155,
     "metadata": {},
     "output_type": "execute_result"
    }
   ],
   "source": [
    "vif"
   ]
  },
  {
   "cell_type": "markdown",
   "id": "51a5aefa",
   "metadata": {},
   "source": [
    "Now the building of the model since my dat is clean and i have choosing the best features"
   ]
  },
  {
   "cell_type": "code",
   "execution_count": 156,
   "id": "d83c0d36",
   "metadata": {},
   "outputs": [],
   "source": [
    "from sklearn.model_selection import train_test_split\n",
    "from sklearn.metrics import mean_absolute_error\n",
    "from sklearn.metrics import mean_squared_error\n",
    "from sklearn.metrics import r2_score\n",
    "from sklearn.model_selection import KFold,cross_val_score\n",
    "from sklearn.neighbors import KNeighborsRegressor as KNN\n",
    "from sklearn.linear_model import Lasso,Ridge\n",
    "from sklearn.metrics import mean_absolute_error\n",
    "from sklearn.metrics import mean_squared_error\n",
    "from sklearn.metrics import r2_score\n",
    "from sklearn.ensemble import GradientBoostingRegressor\n",
    "from sklearn.linear_model import LinearRegression\n",
    "from sklearn.tree import DecisionTreeRegressor as DT\n",
    "from sklearn.ensemble import RandomForestRegressor, AdaBoostRegressor"
   ]
  },
  {
   "cell_type": "code",
   "execution_count": 157,
   "id": "2735a277",
   "metadata": {},
   "outputs": [
    {
     "name": "stdout",
     "output_type": "stream",
     "text": [
      "maximum r2 score is = 0.8499381497132612 \n",
      " random state =  84\n"
     ]
    }
   ],
   "source": [
    "MaxAccu = 0\n",
    "MaxRS = 0\n",
    "for i in range(1,200):\n",
    "    x_train,x_test,y_train,y_test = train_test_split(Temperature_scaler,Label,test_size = .30, random_state = i)\n",
    "    Lr = LinearRegression()\n",
    "    Lr.fit(x_train,y_train)\n",
    "    pred = Lr.predict(x_test)\n",
    "    acc = r2_score(y_test,pred)\n",
    "    if acc>MaxAccu:\n",
    "        MaxAccu = acc\n",
    "        MaxRS = i\n",
    "print('maximum r2 score is =',MaxAccu,'\\n random state = ',MaxRS)"
   ]
  },
  {
   "cell_type": "code",
   "execution_count": 158,
   "id": "4cdfcee0",
   "metadata": {},
   "outputs": [],
   "source": [
    "x_train,x_test,y_train,y_test = train_test_split(Temperature_scaler,Label, test_size = 0.30, random_state = MaxRS)"
   ]
  },
  {
   "cell_type": "code",
   "execution_count": 159,
   "id": "40657db0",
   "metadata": {},
   "outputs": [
    {
     "name": "stdout",
     "output_type": "stream",
     "text": [
      "R2 score: 0.8908608774843928\n",
      "R2 score on training Data: 0.9833300060085755\n",
      "Mean absolute Error: 0.6284574410004257\n",
      "Mean squared Error: 0.697185246796497\n",
      "Root mean squared Error: 0.8349761953472069\n"
     ]
    }
   ],
   "source": [
    "rfr = RandomForestRegressor()\n",
    "rfr.fit(x_train,y_train)\n",
    "pred_rfr = rfr.predict(x_test)\n",
    "pred_train = rfr.predict(x_train)\n",
    "print ('R2 score:', r2_score(y_test,pred_rfr))\n",
    "print ('R2 score on training Data:',r2_score(y_train,pred_train))\n",
    "print ('Mean absolute Error:', mean_absolute_error(y_test,pred_rfr))\n",
    "print ('Mean squared Error:', mean_squared_error(y_test,pred_rfr))\n",
    "print ('Root mean squared Error:', np.sqrt(mean_squared_error(y_test,pred_rfr)))"
   ]
  },
  {
   "cell_type": "code",
   "execution_count": 160,
   "id": "74bfe184",
   "metadata": {},
   "outputs": [
    {
     "data": {
      "image/png": "[encoded data removed]",
      "text/plain": [
       "<Figure size 640x480 with 1 Axes>"
      ]
     },
     "metadata": {},
     "output_type": "display_data"
    }
   ],
   "source": [
    "plt.scatter(y_test,pred_rfr)\n",
    "plt.xlabel('Actual')\n",
    "plt.ylabel('prediction')\n",
    "plt.title('Temperature prediction')\n",
    "plt.show()"
   ]
  },
  {
   "cell_type": "code",
   "execution_count": 166,
   "id": "8926b2aa",
   "metadata": {},
   "outputs": [
    {
     "name": "stdout",
     "output_type": "stream",
     "text": [
      "R2 score: 0.8077987346237301\n",
      "R2 score on training Data: 0.8026198678289873\n",
      "Mean absolute Error: 0.8837180819643394\n",
      "Mean squared Error: 1.227789664671268\n",
      "Root mean squared Error: 1.1080567064330544\n"
     ]
    }
   ],
   "source": [
    "Ada = AdaBoostRegressor()\n",
    "Ada.fit(x_train,y_train)\n",
    "pred_Ada = Ada.predict(x_test)\n",
    "pred_train = Ada.predict(x_train)\n",
    "print ('R2 score:', r2_score(y_test,pred_Ada))\n",
    "print ('R2 score on training Data:',r2_score(y_train,pred_train))\n",
    "print ('Mean absolute Error:', mean_absolute_error(y_test,pred_Ada))\n",
    "print ('Mean squared Error:', mean_squared_error(y_test,pred_Ada))\n",
    "print ('Root mean squared Error:', np.sqrt(mean_squared_error(y_test,pred_Ada)))"
   ]
  },
  {
   "cell_type": "code",
   "execution_count": 167,
   "id": "076809d2",
   "metadata": {},
   "outputs": [
    {
     "data": {
      "image/png": "[encoded data removed]",
      "text/plain": [
       "<Figure size 640x480 with 1 Axes>"
      ]
     },
     "metadata": {},
     "output_type": "display_data"
    }
   ],
   "source": [
    "plt.scatter(y_test,pred_Ada)\n",
    "plt.xlabel('Actual')\n",
    "plt.ylabel('prediction')\n",
    "plt.title('Temperature prediction')\n",
    "plt.show()"
   ]
  },
  {
   "cell_type": "code",
   "execution_count": 163,
   "id": "8c635914",
   "metadata": {},
   "outputs": [
    {
     "name": "stdout",
     "output_type": "stream",
     "text": [
      "R2 score: 0.6217715829456469\n",
      "R2 score on training Data: 0.6166474843475938\n",
      "Mean absolute Error: 1.2156179514212906\n",
      "Mean squared Error: 2.4161388346491277\n",
      "Root mean squared Error: 1.5543933976471747\n"
     ]
    }
   ],
   "source": [
    "lasso = Lasso()\n",
    "lasso.fit(x_train,y_train)\n",
    "pred_lasso = lasso.predict(x_test)\n",
    "pred_train = lasso.predict(x_train)\n",
    "print ('R2 score:', r2_score(y_test,pred_lasso))\n",
    "print ('R2 score on training Data:',r2_score(y_train,pred_train))\n",
    "print ('Mean absolute Error:', mean_absolute_error(y_test,pred_lasso))\n",
    "print ('Mean squared Error:', mean_squared_error(y_test,pred_lasso))\n",
    "print ('Root mean squared Error:', np.sqrt(mean_squared_error(y_test,pred_lasso)))"
   ]
  },
  {
   "cell_type": "code",
   "execution_count": 164,
   "id": "16762a82",
   "metadata": {},
   "outputs": [
    {
     "data": {
      "image/png": "[encoded data removed]",
      "text/plain": [
       "<Figure size 640x480 with 1 Axes>"
      ]
     },
     "metadata": {},
     "output_type": "display_data"
    }
   ],
   "source": [
    "plt.scatter(y_test,pred_lasso)\n",
    "plt.xlabel('Actual')\n",
    "plt.ylabel('prediction')\n",
    "plt.title('Temperature prediction')\n",
    "plt.show()"
   ]
  },
  {
   "cell_type": "code",
   "execution_count": 165,
   "id": "c136f60f",
   "metadata": {},
   "outputs": [],
   "source": [
    "from sklearn.model_selection import cross_val_score"
   ]
  },
  {
   "cell_type": "code",
   "execution_count": 168,
   "id": "862b3c7e",
   "metadata": {},
   "outputs": [
    {
     "name": "stdout",
     "output_type": "stream",
     "text": [
      "[0.70730195 0.66581688 0.80859449 0.88548058 0.88015793]\n",
      "0.7894703667467673\n",
      "difference = -1.6293186100278076\n"
     ]
    }
   ],
   "source": [
    "score1 = cross_val_score(Lr,Temperature_scaler,Label,cv=5,scoring='r2')\n",
    "print(score1)\n",
    "print(score1.mean())\n",
    "print('difference =',(r2_score(y_test,pred)-score1.mean()))"
   ]
  },
  {
   "cell_type": "code",
   "execution_count": 169,
   "id": "3915a6a4",
   "metadata": {},
   "outputs": [
    {
     "name": "stdout",
     "output_type": "stream",
     "text": [
      "[0.62888157 0.60044221 0.74845303 0.833799   0.84309799]\n",
      "0.7309347604437233\n",
      "difference = 0.07686397418000679\n"
     ]
    }
   ],
   "source": [
    "score3 = cross_val_score(Ada,Temperature_scaler,Label,cv=5,scoring='r2')\n",
    "print(score3)\n",
    "print(score3.mean())\n",
    "print('difference =',(r2_score(y_test,pred_Ada)-score3.mean()))"
   ]
  },
  {
   "cell_type": "code",
   "execution_count": 170,
   "id": "5c303cfd",
   "metadata": {},
   "outputs": [
    {
     "name": "stdout",
     "output_type": "stream",
     "text": [
      "[0.55200986 0.4384329  0.59861448 0.52635107 0.66071238]\n",
      "0.5552241390006536\n",
      "difference = 0.06654744394499335\n"
     ]
    }
   ],
   "source": [
    "score2 = cross_val_score(lasso,Temperature_scaler,Label,cv=5,scoring='r2')\n",
    "print(score2)\n",
    "print(score2.mean())\n",
    "print('difference =',(r2_score(y_test,pred_lasso)-score2.mean()))"
   ]
  },
  {
   "cell_type": "code",
   "execution_count": 171,
   "id": "878af523",
   "metadata": {},
   "outputs": [
    {
     "name": "stdout",
     "output_type": "stream",
     "text": [
      "[0.64077486 0.65147599 0.79071358 0.86080004 0.8700396 ]\n",
      "0.7627608141412824\n",
      "difference = 0.12804700908253852\n"
     ]
    }
   ],
   "source": [
    "score1 = cross_val_score(rfr,Temperature_scaler,Label,cv=5,scoring='r2')\n",
    "print(score1)\n",
    "print(score1.mean())\n",
    "print('difference =',(r2_score(y_test,pred_rfr)-score1.mean()))"
   ]
  },
  {
   "cell_type": "markdown",
   "id": "989f6148",
   "metadata": {},
   "source": [
    "Linear regression is my best model as the difference between accuracy score and cross validation score is least"
   ]
  },
  {
   "cell_type": "markdown",
   "id": "4dbf5bfd",
   "metadata": {},
   "source": [
    "Hyper parameter tunning"
   ]
  },
  {
   "cell_type": "code",
   "execution_count": 208,
   "id": "0f1f72dc",
   "metadata": {},
   "outputs": [],
   "source": [
    "from sklearn.model_selection import GridSearchCV\n",
    "params_grid = {\n",
    "             'fit_intercept': [ True, False],\n",
    "             'copy_X':[True, False],\n",
    "             }"
   ]
  },
  {
   "cell_type": "code",
   "execution_count": 209,
   "id": "985e7781",
   "metadata": {},
   "outputs": [],
   "source": [
    "grid_search =GridSearchCV(estimator=Lr, param_grid = params_grid, cv = 5)"
   ]
  },
  {
   "cell_type": "code",
   "execution_count": 210,
   "id": "13c95ee8",
   "metadata": {},
   "outputs": [
    {
     "data": {
      "text/plain": [
       "GridSearchCV(cv=5, estimator=LinearRegression(),\n",
       "             param_grid={'copy_X': [True, False],\n",
       "                         'fit_intercept': [True, False]})"
      ]
     },
     "execution_count": 210,
     "metadata": {},
     "output_type": "execute_result"
    }
   ],
   "source": [
    "grid_search.fit(x_train,y_train)"
   ]
  },
  {
   "cell_type": "code",
   "execution_count": 211,
   "id": "c2a8e1dd",
   "metadata": {},
   "outputs": [
    {
     "name": "stdout",
     "output_type": "stream",
     "text": [
      "{'copy_X': True, 'fit_intercept': True}\n"
     ]
    }
   ],
   "source": [
    "my_best_parameter = grid_search.best_params_\n",
    "print(my_best_parameter)"
   ]
  },
  {
   "cell_type": "code",
   "execution_count": 213,
   "id": "f1aa824e",
   "metadata": {},
   "outputs": [],
   "source": [
    "Lr_final = LinearRegression(copy_X= True, fit_intercept= True)"
   ]
  },
  {
   "cell_type": "code",
   "execution_count": 214,
   "id": "35a5cb52",
   "metadata": {},
   "outputs": [
    {
     "data": {
      "text/plain": [
       "LinearRegression()"
      ]
     },
     "execution_count": 214,
     "metadata": {},
     "output_type": "execute_result"
    }
   ],
   "source": [
    "Lr_final"
   ]
  },
  {
   "cell_type": "code",
   "execution_count": 215,
   "id": "5d70d2af",
   "metadata": {},
   "outputs": [
    {
     "name": "stdout",
     "output_type": "stream",
     "text": [
      "R2 score: 0.8499381497132612\n",
      "Mean absolute Error: 0.7644038548494301\n",
      "Mean squared Error: 0.9586013311765258\n",
      "Root mean squared Error: 0.9790818817527601\n"
     ]
    }
   ],
   "source": [
    "Lr_final.fit(x_train,y_train)\n",
    "my_prediction = Lr_final.predict(x_test)\n",
    "print ('R2 score:', r2_score(y_test,my_prediction))\n",
    "print ('Mean absolute Error:', mean_absolute_error(y_test,my_prediction))\n",
    "print ('Mean squared Error:', mean_squared_error(y_test,my_prediction))\n",
    "print ('Root mean squared Error:', np.sqrt(mean_squared_error(y_test,my_prediction)))"
   ]
  },
  {
   "cell_type": "code",
   "execution_count": 216,
   "id": "a4b6506e",
   "metadata": {},
   "outputs": [],
   "source": [
    "import joblib\n",
    "import pickle\n",
    "filename = 'max_temp.pkl'\n",
    "pickle.dump(Lr_final,open(filename,'wb'))"
   ]
  },
  {
   "cell_type": "code",
   "execution_count": 217,
   "id": "ffc8d426",
   "metadata": {},
   "outputs": [
    {
     "name": "stdout",
     "output_type": "stream",
     "text": [
      "84.99381497132612\n"
     ]
    }
   ],
   "source": [
    "import pickle\n",
    "loaded_Lr_final=pickle.load(open(filename,'rb'))\n",
    "result = loaded_Lr_final.score(x_test,y_test)\n",
    "print(result*100)"
   ]
  },
  {
   "cell_type": "code",
   "execution_count": null,
   "id": "bcf1bc7b",
   "metadata": {},
   "outputs": [],
   "source": []
  }
 ],
 "metadata": {
  "kernelspec": {
   "display_name": "Python 3 (ipykernel)",
   "language": "python",
   "name": "python3"
  },
  "language_info": {
   "codemirror_mode": {
    "name": "ipython",
    "version": 3
   },
   "file_extension": ".py",
   "mimetype": "text/x-python",
   "name": "python",
   "nbconvert_exporter": "python",
   "pygments_lexer": "ipython3",
   "version": "3.9.13"
  }
 },
 "nbformat": 4,
 "nbformat_minor": 5
}
